{
 "cells": [
  {
   "cell_type": "markdown",
   "metadata": {},
   "source": [
    "## Домашняя работа 4. \n",
    "\n",
    "Максимальный балл за задание - 10."
   ]
  },
  {
   "cell_type": "markdown",
   "metadata": {},
   "source": [
    "## Данные\n",
    "\n",
    "\n",
    "В этой домашней работе мы будем обучать модели машинного обучения, ставить эксперименты, подбирать гиперпараметры, сравнивать и смешивать модели. Вам предлагается решить задачу бинарной классификации, а именно построить алгоритм, определяющий превысит ли средний заработок человека порог $50k. Каждый объект выборки — человек, для которого известны следующие признаки:\n",
    " - age\n",
    " - workclass\n",
    " - fnlwgt\n",
    " - education\n",
    " - education-num\n",
    " - marital-status\n",
    " - occupation\n",
    " - relationship\n",
    " - race\n",
    " - sex\n",
    " - capital-gain\n",
    " - capital-loss\n",
    " - hours-per-week\n",
    " \n",
    "Более подробно про признаки можно почитать [здесь](http://archive.ics.uci.edu/ml/machine-learning-databases/adult/adult.names). Целевой признак записан в переменной *>50K,<=50K*."
   ]
  },
  {
   "cell_type": "markdown",
   "metadata": {},
   "source": [
    "## Метрика качества\n",
    "\n",
    "В задании мы будем оценивать качество моделей с помощью метрики AUC-ROC."
   ]
  },
  {
   "cell_type": "markdown",
   "metadata": {},
   "source": [
    "## Подбор гиперпараметров модели\n",
    "\n",
    "В задачах машинного обучения следует различать параметры модели и гиперпараметры (структурные параметры). Обычно параметры модели настраиваются в ходе обучения (например, веса в линейной модели или структура решающего дерева), в то время как гиперпараметры задаются заранее (например, регуляризация в линейной модели или максимальная глубина решающего дерева). Каждая модель обычно имеет множество гиперпараметров, и нет универсальных наборов гиперпараметров, оптимально работающих во всех задачах, для каждой задачи нужно подбирать свой набор.\n",
    "\n",
    "Для оптимизации гиперпараметров модели часто используют _перебор по сетке (grid search)_: для каждого гиперпараметра выбирается несколько значений, перебираются все комбинации значений и выбирается комбинация, на которой модель показывает лучшее качество (с точки зрения метрики, которая оптимизируется). Однако в этом случае нужно грамотно оценивать построенную модель, а именно делать разбиение на обучающую и тестовую выборку. Есть несколько схем, как это можно реализовать: \n",
    "\n",
    " - Разбить имеющуюся выборку на обучающую и тестовую. В этом случае сравнение большого числа моделей при переборе параметров приводит к ситуации, когда лучшая на тестовой подвыборке модель не сохраняет свои качества на новых данных. Можно сказать, что происходит _переобучение_ на тестовую выборку.\n",
    " - Для устранения описанной выше проблемы, можно разбить данные на 3 непересекающихся подвыборки: обучение (`train`), валидация (`validation`) и контроль (`test`). Валидационную подвыборку используют для сравнения моделей, а `test` — для окончательной оценки качества и сравнения семейств моделей с подобранными параметрами.\n",
    " - Другой способ сравнения моделей — [кросс-валидация](http://en.wikipedia.org/wiki/Cross-validation_(statistics). Существуют различные схемы кросс-валидации:\n",
    "  - Leave-One-Out\n",
    "  - K-Fold\n",
    "  - Многократное случайное разбиение выборки\n",
    "  \n",
    "Кросс-валидация вычислительно затратна, особенно если вы делаете перебор по сетке с очень большим числом комбинации. С учетом конечности времени на выполнение задания, возникает ряд компромиссов: \n",
    "  - сетку можно делать более разреженной, перебирая меньше значений каждого параметра; однако, надо не забывать, что в таком случае можно пропустить хорошую комбинацию параметров;\n",
    "  - кросс-валидацию можно делать с меньшим числом разбиений или фолдов, но в таком случае оценка качества кросс-валидации становится более шумной и увеличивается риск выбрать неоптимальный набор параметров из-за случайности разбиения;\n",
    "  - параметры можно оптимизировать последовательно (жадно) — один за другим, а не перебирать все комбинации; такая стратегия не всегда приводит к оптимальному набору;\n",
    "  - перебирать не все комбинации параметров, а небольшое число случайно выбранных."
   ]
  },
  {
   "cell_type": "markdown",
   "metadata": {},
   "source": [
    "## Задание "
   ]
  },
  {
   "cell_type": "markdown",
   "metadata": {},
   "source": [
    "Загрузите набор данных *data.adult.csv*. Чтобы лучше понимать, с чем вы работаете/корректно ли вы загрузили данные можно вывести несколько первых строк на экран."
   ]
  },
  {
   "cell_type": "code",
   "execution_count": 8,
   "metadata": {
    "ExecuteTime": {
     "end_time": "2023-12-17T09:54:55.148424700Z",
     "start_time": "2023-12-17T09:54:55.094099200Z"
    }
   },
   "outputs": [
    {
     "name": "stdout",
     "output_type": "stream",
     "text": [
      "   age  workclass  fnlwgt     education  education-num      marital-status  \\\n",
      "0   34  Local-gov  284843       HS-grad              9       Never-married   \n",
      "1   40    Private  190290  Some-college             10            Divorced   \n",
      "2   36  Local-gov  177858     Bachelors             13  Married-civ-spouse   \n",
      "3   22    Private  184756  Some-college             10       Never-married   \n",
      "4   47    Private  149700     Bachelors             13  Married-civ-spouse   \n",
      "\n",
      "        occupation   relationship   race     sex  capital-gain  capital-loss  \\\n",
      "0  Farming-fishing  Not-in-family  Black    Male           594             0   \n",
      "1            Sales  Not-in-family  White    Male             0             0   \n",
      "2   Prof-specialty      Own-child  White    Male             0             0   \n",
      "3            Sales      Own-child  White  Female             0             0   \n",
      "4     Tech-support        Husband  White    Male         15024             0   \n",
      "\n",
      "   hours-per-week >50K,<=50K  \n",
      "0              60      <=50K  \n",
      "1              40      <=50K  \n",
      "2              40      <=50K  \n",
      "3              30      <=50K  \n",
      "4              40       >50K  \n"
     ]
    }
   ],
   "source": [
    "import sys\n",
    "sys.version"
   ]
  },
  {
   "cell_type": "markdown",
   "metadata": {},
   "source": [
    "Иногда в данных встречаются пропуски. Как задаются пропуски обычно либо прописывается в описании к данным, либо просто на месте пропуска после чтения данных оказывается значение numpy.nan. Более подробно о работе с пропусками в Pandas можно прочитать например [здесь](http://pandas.pydata.org/pandas-docs/stable/missing_data.html). \n",
    "\n",
    "В данном датасете пропущенные значения обозначены как \"?\". \n",
    "\n",
    "**Задание 1 (0.5 балла)** Найдите все признаки, имеющие пропущенные значения. Удалите из выборки все объекты с пропусками."
   ]
  },
  {
   "cell_type": "code",
   "execution_count": 14,
   "metadata": {
    "ExecuteTime": {
     "end_time": "2023-12-17T09:59:45.765877100Z",
     "start_time": "2023-12-17T09:59:45.583942600Z"
    }
   },
   "outputs": [
    {
     "name": "stderr",
     "output_type": "stream",
     "text": [
      "C:\\Users\\azhoh\\AppData\\Local\\Temp\\ipykernel_12040\\3650533760.py:2: FutureWarning: pandas.value_counts is deprecated and will be removed in a future version. Use pd.Series(obj).value_counts() instead.\n",
      "  df_init.apply(pd.value_counts).filter(like='?', axis=0)\n",
      "C:\\Users\\azhoh\\AppData\\Local\\Temp\\ipykernel_12040\\3650533760.py:2: FutureWarning: pandas.value_counts is deprecated and will be removed in a future version. Use pd.Series(obj).value_counts() instead.\n",
      "  df_init.apply(pd.value_counts).filter(like='?', axis=0)\n",
      "C:\\Users\\azhoh\\AppData\\Local\\Temp\\ipykernel_12040\\3650533760.py:2: FutureWarning: pandas.value_counts is deprecated and will be removed in a future version. Use pd.Series(obj).value_counts() instead.\n",
      "  df_init.apply(pd.value_counts).filter(like='?', axis=0)\n",
      "C:\\Users\\azhoh\\AppData\\Local\\Temp\\ipykernel_12040\\3650533760.py:2: FutureWarning: pandas.value_counts is deprecated and will be removed in a future version. Use pd.Series(obj).value_counts() instead.\n",
      "  df_init.apply(pd.value_counts).filter(like='?', axis=0)\n",
      "C:\\Users\\azhoh\\AppData\\Local\\Temp\\ipykernel_12040\\3650533760.py:2: FutureWarning: pandas.value_counts is deprecated and will be removed in a future version. Use pd.Series(obj).value_counts() instead.\n",
      "  df_init.apply(pd.value_counts).filter(like='?', axis=0)\n",
      "C:\\Users\\azhoh\\AppData\\Local\\Temp\\ipykernel_12040\\3650533760.py:2: FutureWarning: pandas.value_counts is deprecated and will be removed in a future version. Use pd.Series(obj).value_counts() instead.\n",
      "  df_init.apply(pd.value_counts).filter(like='?', axis=0)\n",
      "C:\\Users\\azhoh\\AppData\\Local\\Temp\\ipykernel_12040\\3650533760.py:2: FutureWarning: pandas.value_counts is deprecated and will be removed in a future version. Use pd.Series(obj).value_counts() instead.\n",
      "  df_init.apply(pd.value_counts).filter(like='?', axis=0)\n",
      "C:\\Users\\azhoh\\AppData\\Local\\Temp\\ipykernel_12040\\3650533760.py:2: FutureWarning: pandas.value_counts is deprecated and will be removed in a future version. Use pd.Series(obj).value_counts() instead.\n",
      "  df_init.apply(pd.value_counts).filter(like='?', axis=0)\n"
     ]
    },
    {
     "ename": "TypeError",
     "evalue": "'<' not supported between instances of 'str' and 'int'",
     "output_type": "error",
     "traceback": [
      "\u001B[1;31m---------------------------------------------------------------------------\u001B[0m",
      "\u001B[1;31mTypeError\u001B[0m                                 Traceback (most recent call last)",
      "Cell \u001B[1;32mIn[14], line 2\u001B[0m\n\u001B[0;32m      1\u001B[0m \u001B[38;5;66;03m# в данном случае мы посчитали по столбцам количество строчек, содержащих символ \"?\"\u001B[39;00m\n\u001B[1;32m----> 2\u001B[0m \u001B[43mdf_init\u001B[49m\u001B[38;5;241;43m.\u001B[39;49m\u001B[43mapply\u001B[49m\u001B[43m(\u001B[49m\u001B[43mpd\u001B[49m\u001B[38;5;241;43m.\u001B[39;49m\u001B[43mvalue_counts\u001B[49m\u001B[43m)\u001B[49m\u001B[38;5;241m.\u001B[39mfilter(like\u001B[38;5;241m=\u001B[39m\u001B[38;5;124m'\u001B[39m\u001B[38;5;124m?\u001B[39m\u001B[38;5;124m'\u001B[39m, axis\u001B[38;5;241m=\u001B[39m\u001B[38;5;241m0\u001B[39m)\n\u001B[0;32m      3\u001B[0m \u001B[38;5;66;03m# мы видим, что есть 2 переменные [\"workclass\", \"occupation\"], содержащие 929 и 933 пропусков соответственно\u001B[39;00m\n",
      "File \u001B[1;32m~\\PycharmProjects\\homeWork2\\.venv\\Lib\\site-packages\\pandas\\core\\frame.py:10034\u001B[0m, in \u001B[0;36mDataFrame.apply\u001B[1;34m(self, func, axis, raw, result_type, args, by_row, **kwargs)\u001B[0m\n\u001B[0;32m  10022\u001B[0m \u001B[38;5;28;01mfrom\u001B[39;00m \u001B[38;5;21;01mpandas\u001B[39;00m\u001B[38;5;21;01m.\u001B[39;00m\u001B[38;5;21;01mcore\u001B[39;00m\u001B[38;5;21;01m.\u001B[39;00m\u001B[38;5;21;01mapply\u001B[39;00m \u001B[38;5;28;01mimport\u001B[39;00m frame_apply\n\u001B[0;32m  10024\u001B[0m op \u001B[38;5;241m=\u001B[39m frame_apply(\n\u001B[0;32m  10025\u001B[0m     \u001B[38;5;28mself\u001B[39m,\n\u001B[0;32m  10026\u001B[0m     func\u001B[38;5;241m=\u001B[39mfunc,\n\u001B[1;32m   (...)\u001B[0m\n\u001B[0;32m  10032\u001B[0m     kwargs\u001B[38;5;241m=\u001B[39mkwargs,\n\u001B[0;32m  10033\u001B[0m )\n\u001B[1;32m> 10034\u001B[0m \u001B[38;5;28;01mreturn\u001B[39;00m \u001B[43mop\u001B[49m\u001B[38;5;241;43m.\u001B[39;49m\u001B[43mapply\u001B[49m\u001B[43m(\u001B[49m\u001B[43m)\u001B[49m\u001B[38;5;241m.\u001B[39m__finalize__(\u001B[38;5;28mself\u001B[39m, method\u001B[38;5;241m=\u001B[39m\u001B[38;5;124m\"\u001B[39m\u001B[38;5;124mapply\u001B[39m\u001B[38;5;124m\"\u001B[39m)\n",
      "File \u001B[1;32m~\\PycharmProjects\\homeWork2\\.venv\\Lib\\site-packages\\pandas\\core\\apply.py:837\u001B[0m, in \u001B[0;36mFrameApply.apply\u001B[1;34m(self)\u001B[0m\n\u001B[0;32m    834\u001B[0m \u001B[38;5;28;01melif\u001B[39;00m \u001B[38;5;28mself\u001B[39m\u001B[38;5;241m.\u001B[39mraw:\n\u001B[0;32m    835\u001B[0m     \u001B[38;5;28;01mreturn\u001B[39;00m \u001B[38;5;28mself\u001B[39m\u001B[38;5;241m.\u001B[39mapply_raw()\n\u001B[1;32m--> 837\u001B[0m \u001B[38;5;28;01mreturn\u001B[39;00m \u001B[38;5;28;43mself\u001B[39;49m\u001B[38;5;241;43m.\u001B[39;49m\u001B[43mapply_standard\u001B[49m\u001B[43m(\u001B[49m\u001B[43m)\u001B[49m\n",
      "File \u001B[1;32m~\\PycharmProjects\\homeWork2\\.venv\\Lib\\site-packages\\pandas\\core\\apply.py:968\u001B[0m, in \u001B[0;36mFrameApply.apply_standard\u001B[1;34m(self)\u001B[0m\n\u001B[0;32m    965\u001B[0m results, res_index \u001B[38;5;241m=\u001B[39m \u001B[38;5;28mself\u001B[39m\u001B[38;5;241m.\u001B[39mapply_series_generator()\n\u001B[0;32m    967\u001B[0m \u001B[38;5;66;03m# wrap results\u001B[39;00m\n\u001B[1;32m--> 968\u001B[0m \u001B[38;5;28;01mreturn\u001B[39;00m \u001B[38;5;28;43mself\u001B[39;49m\u001B[38;5;241;43m.\u001B[39;49m\u001B[43mwrap_results\u001B[49m\u001B[43m(\u001B[49m\u001B[43mresults\u001B[49m\u001B[43m,\u001B[49m\u001B[43m \u001B[49m\u001B[43mres_index\u001B[49m\u001B[43m)\u001B[49m\n",
      "File \u001B[1;32m~\\PycharmProjects\\homeWork2\\.venv\\Lib\\site-packages\\pandas\\core\\apply.py:994\u001B[0m, in \u001B[0;36mFrameApply.wrap_results\u001B[1;34m(self, results, res_index)\u001B[0m\n\u001B[0;32m    992\u001B[0m \u001B[38;5;66;03m# see if we can infer the results\u001B[39;00m\n\u001B[0;32m    993\u001B[0m \u001B[38;5;28;01mif\u001B[39;00m \u001B[38;5;28mlen\u001B[39m(results) \u001B[38;5;241m>\u001B[39m \u001B[38;5;241m0\u001B[39m \u001B[38;5;129;01mand\u001B[39;00m \u001B[38;5;241m0\u001B[39m \u001B[38;5;129;01min\u001B[39;00m results \u001B[38;5;129;01mand\u001B[39;00m is_sequence(results[\u001B[38;5;241m0\u001B[39m]):\n\u001B[1;32m--> 994\u001B[0m     \u001B[38;5;28;01mreturn\u001B[39;00m \u001B[38;5;28;43mself\u001B[39;49m\u001B[38;5;241;43m.\u001B[39;49m\u001B[43mwrap_results_for_axis\u001B[49m\u001B[43m(\u001B[49m\u001B[43mresults\u001B[49m\u001B[43m,\u001B[49m\u001B[43m \u001B[49m\u001B[43mres_index\u001B[49m\u001B[43m)\u001B[49m\n\u001B[0;32m    996\u001B[0m \u001B[38;5;66;03m# dict of scalars\u001B[39;00m\n\u001B[0;32m    997\u001B[0m \n\u001B[0;32m    998\u001B[0m \u001B[38;5;66;03m# the default dtype of an empty Series is `object`, but this\u001B[39;00m\n\u001B[0;32m    999\u001B[0m \u001B[38;5;66;03m# code can be hit by df.mean() where the result should have dtype\u001B[39;00m\n\u001B[0;32m   1000\u001B[0m \u001B[38;5;66;03m# float64 even if it's an empty Series.\u001B[39;00m\n\u001B[0;32m   1001\u001B[0m constructor_sliced \u001B[38;5;241m=\u001B[39m \u001B[38;5;28mself\u001B[39m\u001B[38;5;241m.\u001B[39mobj\u001B[38;5;241m.\u001B[39m_constructor_sliced\n",
      "File \u001B[1;32m~\\PycharmProjects\\homeWork2\\.venv\\Lib\\site-packages\\pandas\\core\\apply.py:1057\u001B[0m, in \u001B[0;36mFrameRowApply.wrap_results_for_axis\u001B[1;34m(self, results, res_index)\u001B[0m\n\u001B[0;32m   1054\u001B[0m     \u001B[38;5;28;01mreturn\u001B[39;00m res\n\u001B[0;32m   1056\u001B[0m \u001B[38;5;28;01mtry\u001B[39;00m:\n\u001B[1;32m-> 1057\u001B[0m     result \u001B[38;5;241m=\u001B[39m \u001B[38;5;28;43mself\u001B[39;49m\u001B[38;5;241;43m.\u001B[39;49m\u001B[43mobj\u001B[49m\u001B[38;5;241;43m.\u001B[39;49m\u001B[43m_constructor\u001B[49m\u001B[43m(\u001B[49m\u001B[43mdata\u001B[49m\u001B[38;5;241;43m=\u001B[39;49m\u001B[43mresults\u001B[49m\u001B[43m)\u001B[49m\n\u001B[0;32m   1058\u001B[0m \u001B[38;5;28;01mexcept\u001B[39;00m \u001B[38;5;167;01mValueError\u001B[39;00m \u001B[38;5;28;01mas\u001B[39;00m err:\n\u001B[0;32m   1059\u001B[0m     \u001B[38;5;28;01mif\u001B[39;00m \u001B[38;5;124m\"\u001B[39m\u001B[38;5;124mAll arrays must be of the same length\u001B[39m\u001B[38;5;124m\"\u001B[39m \u001B[38;5;129;01min\u001B[39;00m \u001B[38;5;28mstr\u001B[39m(err):\n\u001B[0;32m   1060\u001B[0m         \u001B[38;5;66;03m# e.g. result = [[2, 3], [1.5], ['foo', 'bar']]\u001B[39;00m\n\u001B[0;32m   1061\u001B[0m         \u001B[38;5;66;03m#  see test_agg_listlike_result GH#29587\u001B[39;00m\n",
      "File \u001B[1;32m~\\PycharmProjects\\homeWork2\\.venv\\Lib\\site-packages\\pandas\\core\\frame.py:733\u001B[0m, in \u001B[0;36mDataFrame.__init__\u001B[1;34m(self, data, index, columns, dtype, copy)\u001B[0m\n\u001B[0;32m    727\u001B[0m     mgr \u001B[38;5;241m=\u001B[39m \u001B[38;5;28mself\u001B[39m\u001B[38;5;241m.\u001B[39m_init_mgr(\n\u001B[0;32m    728\u001B[0m         data, axes\u001B[38;5;241m=\u001B[39m{\u001B[38;5;124m\"\u001B[39m\u001B[38;5;124mindex\u001B[39m\u001B[38;5;124m\"\u001B[39m: index, \u001B[38;5;124m\"\u001B[39m\u001B[38;5;124mcolumns\u001B[39m\u001B[38;5;124m\"\u001B[39m: columns}, dtype\u001B[38;5;241m=\u001B[39mdtype, copy\u001B[38;5;241m=\u001B[39mcopy\n\u001B[0;32m    729\u001B[0m     )\n\u001B[0;32m    731\u001B[0m \u001B[38;5;28;01melif\u001B[39;00m \u001B[38;5;28misinstance\u001B[39m(data, \u001B[38;5;28mdict\u001B[39m):\n\u001B[0;32m    732\u001B[0m     \u001B[38;5;66;03m# GH#38939 de facto copy defaults to False only in non-dict cases\u001B[39;00m\n\u001B[1;32m--> 733\u001B[0m     mgr \u001B[38;5;241m=\u001B[39m \u001B[43mdict_to_mgr\u001B[49m\u001B[43m(\u001B[49m\u001B[43mdata\u001B[49m\u001B[43m,\u001B[49m\u001B[43m \u001B[49m\u001B[43mindex\u001B[49m\u001B[43m,\u001B[49m\u001B[43m \u001B[49m\u001B[43mcolumns\u001B[49m\u001B[43m,\u001B[49m\u001B[43m \u001B[49m\u001B[43mdtype\u001B[49m\u001B[38;5;241;43m=\u001B[39;49m\u001B[43mdtype\u001B[49m\u001B[43m,\u001B[49m\u001B[43m \u001B[49m\u001B[43mcopy\u001B[49m\u001B[38;5;241;43m=\u001B[39;49m\u001B[43mcopy\u001B[49m\u001B[43m,\u001B[49m\u001B[43m \u001B[49m\u001B[43mtyp\u001B[49m\u001B[38;5;241;43m=\u001B[39;49m\u001B[43mmanager\u001B[49m\u001B[43m)\u001B[49m\n\u001B[0;32m    734\u001B[0m \u001B[38;5;28;01melif\u001B[39;00m \u001B[38;5;28misinstance\u001B[39m(data, ma\u001B[38;5;241m.\u001B[39mMaskedArray):\n\u001B[0;32m    735\u001B[0m     \u001B[38;5;28;01mfrom\u001B[39;00m \u001B[38;5;21;01mnumpy\u001B[39;00m\u001B[38;5;21;01m.\u001B[39;00m\u001B[38;5;21;01mma\u001B[39;00m \u001B[38;5;28;01mimport\u001B[39;00m mrecords\n",
      "File \u001B[1;32m~\\PycharmProjects\\homeWork2\\.venv\\Lib\\site-packages\\pandas\\core\\internals\\construction.py:503\u001B[0m, in \u001B[0;36mdict_to_mgr\u001B[1;34m(data, index, columns, dtype, typ, copy)\u001B[0m\n\u001B[0;32m    499\u001B[0m     \u001B[38;5;28;01melse\u001B[39;00m:\n\u001B[0;32m    500\u001B[0m         \u001B[38;5;66;03m# dtype check to exclude e.g. range objects, scalars\u001B[39;00m\n\u001B[0;32m    501\u001B[0m         arrays \u001B[38;5;241m=\u001B[39m [x\u001B[38;5;241m.\u001B[39mcopy() \u001B[38;5;28;01mif\u001B[39;00m \u001B[38;5;28mhasattr\u001B[39m(x, \u001B[38;5;124m\"\u001B[39m\u001B[38;5;124mdtype\u001B[39m\u001B[38;5;124m\"\u001B[39m) \u001B[38;5;28;01melse\u001B[39;00m x \u001B[38;5;28;01mfor\u001B[39;00m x \u001B[38;5;129;01min\u001B[39;00m arrays]\n\u001B[1;32m--> 503\u001B[0m \u001B[38;5;28;01mreturn\u001B[39;00m \u001B[43marrays_to_mgr\u001B[49m\u001B[43m(\u001B[49m\u001B[43marrays\u001B[49m\u001B[43m,\u001B[49m\u001B[43m \u001B[49m\u001B[43mcolumns\u001B[49m\u001B[43m,\u001B[49m\u001B[43m \u001B[49m\u001B[43mindex\u001B[49m\u001B[43m,\u001B[49m\u001B[43m \u001B[49m\u001B[43mdtype\u001B[49m\u001B[38;5;241;43m=\u001B[39;49m\u001B[43mdtype\u001B[49m\u001B[43m,\u001B[49m\u001B[43m \u001B[49m\u001B[43mtyp\u001B[49m\u001B[38;5;241;43m=\u001B[39;49m\u001B[43mtyp\u001B[49m\u001B[43m,\u001B[49m\u001B[43m \u001B[49m\u001B[43mconsolidate\u001B[49m\u001B[38;5;241;43m=\u001B[39;49m\u001B[43mcopy\u001B[49m\u001B[43m)\u001B[49m\n",
      "File \u001B[1;32m~\\PycharmProjects\\homeWork2\\.venv\\Lib\\site-packages\\pandas\\core\\internals\\construction.py:114\u001B[0m, in \u001B[0;36marrays_to_mgr\u001B[1;34m(arrays, columns, index, dtype, verify_integrity, typ, consolidate)\u001B[0m\n\u001B[0;32m    111\u001B[0m \u001B[38;5;28;01mif\u001B[39;00m verify_integrity:\n\u001B[0;32m    112\u001B[0m     \u001B[38;5;66;03m# figure out the index, if necessary\u001B[39;00m\n\u001B[0;32m    113\u001B[0m     \u001B[38;5;28;01mif\u001B[39;00m index \u001B[38;5;129;01mis\u001B[39;00m \u001B[38;5;28;01mNone\u001B[39;00m:\n\u001B[1;32m--> 114\u001B[0m         index \u001B[38;5;241m=\u001B[39m \u001B[43m_extract_index\u001B[49m\u001B[43m(\u001B[49m\u001B[43marrays\u001B[49m\u001B[43m)\u001B[49m\n\u001B[0;32m    115\u001B[0m     \u001B[38;5;28;01melse\u001B[39;00m:\n\u001B[0;32m    116\u001B[0m         index \u001B[38;5;241m=\u001B[39m ensure_index(index)\n",
      "File \u001B[1;32m~\\PycharmProjects\\homeWork2\\.venv\\Lib\\site-packages\\pandas\\core\\internals\\construction.py:670\u001B[0m, in \u001B[0;36m_extract_index\u001B[1;34m(data)\u001B[0m\n\u001B[0;32m    667\u001B[0m     \u001B[38;5;28;01mraise\u001B[39;00m \u001B[38;5;167;01mValueError\u001B[39;00m(\u001B[38;5;124m\"\u001B[39m\u001B[38;5;124mIf using all scalar values, you must pass an index\u001B[39m\u001B[38;5;124m\"\u001B[39m)\n\u001B[0;32m    669\u001B[0m \u001B[38;5;28;01mif\u001B[39;00m have_series:\n\u001B[1;32m--> 670\u001B[0m     index \u001B[38;5;241m=\u001B[39m \u001B[43munion_indexes\u001B[49m\u001B[43m(\u001B[49m\u001B[43mindexes\u001B[49m\u001B[43m)\u001B[49m\n\u001B[0;32m    671\u001B[0m \u001B[38;5;28;01melif\u001B[39;00m have_dicts:\n\u001B[0;32m    672\u001B[0m     index \u001B[38;5;241m=\u001B[39m union_indexes(indexes, sort\u001B[38;5;241m=\u001B[39m\u001B[38;5;28;01mFalse\u001B[39;00m)\n",
      "File \u001B[1;32m~\\PycharmProjects\\homeWork2\\.venv\\Lib\\site-packages\\pandas\\core\\indexes\\api.py:312\u001B[0m, in \u001B[0;36munion_indexes\u001B[1;34m(indexes, sort)\u001B[0m\n\u001B[0;32m    310\u001B[0m index \u001B[38;5;241m=\u001B[39m indexes[\u001B[38;5;241m0\u001B[39m]\n\u001B[0;32m    311\u001B[0m \u001B[38;5;28;01mif\u001B[39;00m \u001B[38;5;129;01mnot\u001B[39;00m \u001B[38;5;28mall\u001B[39m(index\u001B[38;5;241m.\u001B[39mequals(other) \u001B[38;5;28;01mfor\u001B[39;00m other \u001B[38;5;129;01min\u001B[39;00m indexes[\u001B[38;5;241m1\u001B[39m:]):\n\u001B[1;32m--> 312\u001B[0m     index \u001B[38;5;241m=\u001B[39m \u001B[43m_unique_indices\u001B[49m\u001B[43m(\u001B[49m\u001B[43mindexes\u001B[49m\u001B[43m,\u001B[49m\u001B[43m \u001B[49m\u001B[43mdtype\u001B[49m\u001B[43m)\u001B[49m\n\u001B[0;32m    314\u001B[0m name \u001B[38;5;241m=\u001B[39m get_unanimous_names(\u001B[38;5;241m*\u001B[39mindexes)[\u001B[38;5;241m0\u001B[39m]\n\u001B[0;32m    315\u001B[0m \u001B[38;5;28;01mif\u001B[39;00m name \u001B[38;5;241m!=\u001B[39m index\u001B[38;5;241m.\u001B[39mname:\n",
      "File \u001B[1;32m~\\PycharmProjects\\homeWork2\\.venv\\Lib\\site-packages\\pandas\\core\\indexes\\api.py:245\u001B[0m, in \u001B[0;36munion_indexes.<locals>._unique_indices\u001B[1;34m(inds, dtype)\u001B[0m\n\u001B[0;32m    243\u001B[0m     result \u001B[38;5;241m=\u001B[39m result\u001B[38;5;241m.\u001B[39mastype(dtype, copy\u001B[38;5;241m=\u001B[39m\u001B[38;5;28;01mFalse\u001B[39;00m)\n\u001B[0;32m    244\u001B[0m     \u001B[38;5;28;01mif\u001B[39;00m sort:\n\u001B[1;32m--> 245\u001B[0m         result \u001B[38;5;241m=\u001B[39m \u001B[43mresult\u001B[49m\u001B[38;5;241;43m.\u001B[39;49m\u001B[43msort_values\u001B[49m\u001B[43m(\u001B[49m\u001B[43m)\u001B[49m\n\u001B[0;32m    246\u001B[0m     \u001B[38;5;28;01mreturn\u001B[39;00m result\n\u001B[0;32m    248\u001B[0m \u001B[38;5;28;01mdef\u001B[39;00m \u001B[38;5;21mconv\u001B[39m(i):\n",
      "File \u001B[1;32m~\\PycharmProjects\\homeWork2\\.venv\\Lib\\site-packages\\pandas\\core\\indexes\\base.py:5848\u001B[0m, in \u001B[0;36mIndex.sort_values\u001B[1;34m(self, return_indexer, ascending, na_position, key)\u001B[0m\n\u001B[0;32m   5845\u001B[0m \u001B[38;5;66;03m# GH 35584. Sort missing values according to na_position kwarg\u001B[39;00m\n\u001B[0;32m   5846\u001B[0m \u001B[38;5;66;03m# ignore na_position for MultiIndex\u001B[39;00m\n\u001B[0;32m   5847\u001B[0m \u001B[38;5;28;01mif\u001B[39;00m \u001B[38;5;129;01mnot\u001B[39;00m \u001B[38;5;28misinstance\u001B[39m(\u001B[38;5;28mself\u001B[39m, ABCMultiIndex):\n\u001B[1;32m-> 5848\u001B[0m     _as \u001B[38;5;241m=\u001B[39m \u001B[43mnargsort\u001B[49m\u001B[43m(\u001B[49m\n\u001B[0;32m   5849\u001B[0m \u001B[43m        \u001B[49m\u001B[43mitems\u001B[49m\u001B[38;5;241;43m=\u001B[39;49m\u001B[38;5;28;43mself\u001B[39;49m\u001B[43m,\u001B[49m\u001B[43m \u001B[49m\u001B[43mascending\u001B[49m\u001B[38;5;241;43m=\u001B[39;49m\u001B[43mascending\u001B[49m\u001B[43m,\u001B[49m\u001B[43m \u001B[49m\u001B[43mna_position\u001B[49m\u001B[38;5;241;43m=\u001B[39;49m\u001B[43mna_position\u001B[49m\u001B[43m,\u001B[49m\u001B[43m \u001B[49m\u001B[43mkey\u001B[49m\u001B[38;5;241;43m=\u001B[39;49m\u001B[43mkey\u001B[49m\n\u001B[0;32m   5850\u001B[0m \u001B[43m    \u001B[49m\u001B[43m)\u001B[49m\n\u001B[0;32m   5851\u001B[0m \u001B[38;5;28;01melse\u001B[39;00m:\n\u001B[0;32m   5852\u001B[0m     idx \u001B[38;5;241m=\u001B[39m cast(Index, ensure_key_mapped(\u001B[38;5;28mself\u001B[39m, key))\n",
      "File \u001B[1;32m~\\PycharmProjects\\homeWork2\\.venv\\Lib\\site-packages\\pandas\\core\\sorting.py:483\u001B[0m, in \u001B[0;36mnargsort\u001B[1;34m(items, kind, ascending, na_position, key, mask)\u001B[0m\n\u001B[0;32m    481\u001B[0m     non_nans \u001B[38;5;241m=\u001B[39m non_nans[::\u001B[38;5;241m-\u001B[39m\u001B[38;5;241m1\u001B[39m]\n\u001B[0;32m    482\u001B[0m     non_nan_idx \u001B[38;5;241m=\u001B[39m non_nan_idx[::\u001B[38;5;241m-\u001B[39m\u001B[38;5;241m1\u001B[39m]\n\u001B[1;32m--> 483\u001B[0m indexer \u001B[38;5;241m=\u001B[39m non_nan_idx[\u001B[43mnon_nans\u001B[49m\u001B[38;5;241;43m.\u001B[39;49m\u001B[43margsort\u001B[49m\u001B[43m(\u001B[49m\u001B[43mkind\u001B[49m\u001B[38;5;241;43m=\u001B[39;49m\u001B[43mkind\u001B[49m\u001B[43m)\u001B[49m]\n\u001B[0;32m    484\u001B[0m \u001B[38;5;28;01mif\u001B[39;00m \u001B[38;5;129;01mnot\u001B[39;00m ascending:\n\u001B[0;32m    485\u001B[0m     indexer \u001B[38;5;241m=\u001B[39m indexer[::\u001B[38;5;241m-\u001B[39m\u001B[38;5;241m1\u001B[39m]\n",
      "\u001B[1;31mTypeError\u001B[0m: '<' not supported between instances of 'str' and 'int'"
     ]
    }
   ],
   "source": [
    "\n",
    "\n",
    "# в данном случае мы посчитали по столбцам количество строчек, содержащих символ \"?\"\n",
    "df_init.apply(pd.value_counts).filter(like='?', axis=0)\n",
    "# мы видим, что есть 2 переменные [\"workclass\", \"occupation\"], содержащие 929 и 933 пропусков соответственно"
   ]
  },
  {
   "cell_type": "code",
   "execution_count": null,
   "metadata": {
    "collapsed": false
   },
   "outputs": [],
   "source": []
  },
  {
   "cell_type": "code",
   "execution_count": 1,
   "metadata": {
    "ExecuteTime": {
     "end_time": "2023-12-17T16:32:00.349201800Z",
     "start_time": "2023-12-17T16:32:00.053756100Z"
    }
   },
   "outputs": [
    {
     "ename": "NameError",
     "evalue": "name 'df_init' is not defined",
     "output_type": "error",
     "traceback": [
      "\u001B[1;31m---------------------------------------------------------------------------\u001B[0m",
      "\u001B[1;31mNameError\u001B[0m                                 Traceback (most recent call last)",
      "Cell \u001B[1;32mIn[1], line 2\u001B[0m\n\u001B[0;32m      1\u001B[0m \u001B[38;5;66;03m# записываем датасет без пропущенных значений в переменную df_clean\u001B[39;00m\n\u001B[1;32m----> 2\u001B[0m df_clean \u001B[38;5;241m=\u001B[39m \u001B[43mdf_init\u001B[49m\u001B[38;5;241m.\u001B[39mdrop([\u001B[38;5;124m\"\u001B[39m\u001B[38;5;124mworkclass\u001B[39m\u001B[38;5;124m\"\u001B[39m, \u001B[38;5;124m\"\u001B[39m\u001B[38;5;124moccupation\u001B[39m\u001B[38;5;124m\"\u001B[39m], axis\u001B[38;5;241m=\u001B[39m\u001B[38;5;241m1\u001B[39m)\n",
      "\u001B[1;31mNameError\u001B[0m: name 'df_init' is not defined"
     ]
    }
   ],
   "source": [
    "# записываем датасет без пропущенных значений в переменную df_clean\n",
    "df_clean = df_init.drop([\"workclass\", \"occupation\"], axis=1)\n",
    "df_clean"
   ]
  },
  {
   "cell_type": "code",
   "execution_count": null,
   "metadata": {
    "collapsed": false
   },
   "outputs": [],
   "source": []
  },
  {
   "cell_type": "markdown",
   "metadata": {},
   "source": [
    "Обычно после загрузки датасета всегда необходима его некоторая предобработка. В данном случае она будет заключаться в следующем: \n",
    "\n",
    " - Выделите целевую переменную в отдельную переменную, удалите ее из датасета и преобразуйте к бинарному формату.\n",
    " - Обратите внимание, что не все признаки являются вещественными. В начале мы будем работать только с вещественными признаками. Выделите их отдельно."
   ]
  },
  {
   "cell_type": "code",
   "execution_count": 17,
   "metadata": {
    "collapsed": true,
    "jupyter": {
     "outputs_hidden": true
    },
    "ExecuteTime": {
     "end_time": "2023-12-17T10:00:20.971386700Z",
     "start_time": "2023-12-17T10:00:20.919392700Z"
    }
   },
   "outputs": [
    {
     "data": {
      "text/plain": "0        False\n1        False\n2        False\n3        False\n4         True\n         ...  \n16275    False\n16276     True\n16277    False\n16278    False\n16279     True\nName: Y, Length: 16280, dtype: bool"
     },
     "execution_count": 17,
     "metadata": {},
     "output_type": "execute_result"
    }
   ],
   "source": [
    "import pandas as pd\n",
    "\n",
    "# преобразуем переменную Y к бинарному формату, где 1 - доход свыше 50к, 0 - доход до 50к включительно\n",
    "# и записываем в переменную df_Y\n",
    "df_Y = pd.get_dummies(df_clean, columns=['>50K,<=50K'])['>50K,<=50K_>50K'].rename(\"Y\")\n",
    "df_Y"
   ]
  },
  {
   "cell_type": "code",
   "execution_count": 18,
   "metadata": {
    "ExecuteTime": {
     "end_time": "2023-12-17T10:00:23.410301700Z",
     "start_time": "2023-12-17T10:00:23.362327800Z"
    }
   },
   "outputs": [
    {
     "data": {
      "text/plain": "       age  fnlwgt  education-num  capital-gain  capital-loss  hours-per-week\n0       34  284843              9           594             0              60\n1       40  190290             10             0             0              40\n2       36  177858             13             0             0              40\n3       22  184756             10             0             0              30\n4       47  149700             13         15024             0              40\n...    ...     ...            ...           ...           ...             ...\n16275   25  514716             13             0             0              40\n16276   32  207668             13         15024             0              45\n16277   27  104457             13             0             0              40\n16278   59  268700              9             0             0              40\n16279   33   59083             13             0          1902              45\n\n[16280 rows x 6 columns]",
      "text/html": "<div>\n<style scoped>\n    .dataframe tbody tr th:only-of-type {\n        vertical-align: middle;\n    }\n\n    .dataframe tbody tr th {\n        vertical-align: top;\n    }\n\n    .dataframe thead th {\n        text-align: right;\n    }\n</style>\n<table border=\"1\" class=\"dataframe\">\n  <thead>\n    <tr style=\"text-align: right;\">\n      <th></th>\n      <th>age</th>\n      <th>fnlwgt</th>\n      <th>education-num</th>\n      <th>capital-gain</th>\n      <th>capital-loss</th>\n      <th>hours-per-week</th>\n    </tr>\n  </thead>\n  <tbody>\n    <tr>\n      <th>0</th>\n      <td>34</td>\n      <td>284843</td>\n      <td>9</td>\n      <td>594</td>\n      <td>0</td>\n      <td>60</td>\n    </tr>\n    <tr>\n      <th>1</th>\n      <td>40</td>\n      <td>190290</td>\n      <td>10</td>\n      <td>0</td>\n      <td>0</td>\n      <td>40</td>\n    </tr>\n    <tr>\n      <th>2</th>\n      <td>36</td>\n      <td>177858</td>\n      <td>13</td>\n      <td>0</td>\n      <td>0</td>\n      <td>40</td>\n    </tr>\n    <tr>\n      <th>3</th>\n      <td>22</td>\n      <td>184756</td>\n      <td>10</td>\n      <td>0</td>\n      <td>0</td>\n      <td>30</td>\n    </tr>\n    <tr>\n      <th>4</th>\n      <td>47</td>\n      <td>149700</td>\n      <td>13</td>\n      <td>15024</td>\n      <td>0</td>\n      <td>40</td>\n    </tr>\n    <tr>\n      <th>...</th>\n      <td>...</td>\n      <td>...</td>\n      <td>...</td>\n      <td>...</td>\n      <td>...</td>\n      <td>...</td>\n    </tr>\n    <tr>\n      <th>16275</th>\n      <td>25</td>\n      <td>514716</td>\n      <td>13</td>\n      <td>0</td>\n      <td>0</td>\n      <td>40</td>\n    </tr>\n    <tr>\n      <th>16276</th>\n      <td>32</td>\n      <td>207668</td>\n      <td>13</td>\n      <td>15024</td>\n      <td>0</td>\n      <td>45</td>\n    </tr>\n    <tr>\n      <th>16277</th>\n      <td>27</td>\n      <td>104457</td>\n      <td>13</td>\n      <td>0</td>\n      <td>0</td>\n      <td>40</td>\n    </tr>\n    <tr>\n      <th>16278</th>\n      <td>59</td>\n      <td>268700</td>\n      <td>9</td>\n      <td>0</td>\n      <td>0</td>\n      <td>40</td>\n    </tr>\n    <tr>\n      <th>16279</th>\n      <td>33</td>\n      <td>59083</td>\n      <td>13</td>\n      <td>0</td>\n      <td>1902</td>\n      <td>45</td>\n    </tr>\n  </tbody>\n</table>\n<p>16280 rows × 6 columns</p>\n</div>"
     },
     "execution_count": 18,
     "metadata": {},
     "output_type": "execute_result"
    }
   ],
   "source": [
    "df_X_numerical = df_clean[['age', 'fnlwgt', 'education-num', 'capital-gain', 'capital-loss', 'hours-per-week']]\n",
    "df_X_numerical"
   ]
  },
  {
   "cell_type": "markdown",
   "metadata": {},
   "source": [
    "## Обучение классификаторов на вещественных признаках\n",
    "\n",
    "В данном разделе необходимо будет работать только с вещественными признаками и целевой переменной.\n",
    "\n",
    "В начале посмотрим как работает подбор параметров по сетке и как влияет на качество разбиение выборки. Сейчас и далее будем рассматривать 5 алгоритмов:\n",
    " - [kNN](http://scikit-learn.org/stable/modules/generated/sklearn.neighbors.KNeighborsClassifier.html)\n",
    " - [DecisonTree](http://scikit-learn.org/stable/modules/generated/sklearn.tree.DecisionTreeClassifier.html#sklearn.tree.DecisionTreeClassifier)\n",
    " - [SGD Linear Classifier](http://scikit-learn.org/stable/modules/generated/sklearn.linear_model.SGDClassifier.html)\n",
    " - [RandomForest](http://scikit-learn.org/stable/modules/generated/sklearn.ensemble.RandomForestClassifier.html)\n",
    " - [GradientBoosting](https://scikit-learn.org/stable/modules/generated/sklearn.ensemble.GradientBoostingClassifier.html)\n",
    "\n",
    "Для начала у первых трёх алгоритмов выберем один гиперпараметр, который будем оптимизировать:\n",
    " - kNN — число соседей (*n_neighbors*)\n",
    " - DecisonTree — глубина дерева (*max_depth*)\n",
    " - SGD Linear Classifier — оптимизируемая функция (*loss*)\n",
    " \n",
    "Остальные параметры оставляйте в значениях по умолчанию. Для подбора гиперпараметров воспользуйтесь перебором по сетке, который реализован в классе [GridSearchCV](https://scikit-learn.org/stable/modules/generated/sklearn.model_selection.GridSearchCV.html). В качестве схемы кросс-валидации используйте 5-fold cv, которую можно задать с помощью класса [KFold](https://scikit-learn.org/stable/modules/generated/sklearn.model_selection.KFold.html).\n",
    "\n",
    "**Задание 2 (1 балл)** Для каждого из первых трех алгоритмов подберите оптимальные значения указанных гиперпараметров. Для каждого из этих алгоритмов постройте график среднего качества по кросс-валидации при заданном значении гиперпараметра, на котором также отобразите доверительный интервал [m-std, m+std], где m - среднее, std - стандартное отклонение."
   ]
  },
  {
   "cell_type": "code",
   "execution_count": 39,
   "metadata": {
    "collapsed": true,
    "jupyter": {
     "outputs_hidden": true
    }
   },
   "outputs": [
    {
     "name": "stdout",
     "output_type": "stream",
     "text": [
      "Best parameters: {'n_neighbors': 5}\n",
      "Best score: 0.6443971580603648\n"
     ]
    },
    {
     "data": {
      "image/png": "[encoded data removed]",
      "text/plain": [
       "<Figure size 432x288 with 1 Axes>"
      ]
     },
     "metadata": {
      "needs_background": "light"
     },
     "output_type": "display_data"
    }
   ],
   "source": [
    "# kNN\n",
    "\n",
    "from sklearn.neighbors import KNeighborsClassifier\n",
    "from sklearn.model_selection import KFold\n",
    "from sklearn.model_selection import GridSearchCV\n",
    "import matplotlib.pyplot as plt\n",
    "\n",
    "kf = KFold(n_splits=5, shuffle=False)\n",
    "\n",
    "knn_model = KNeighborsClassifier(n_neighbors=3)\n",
    "\n",
    "# оптимизируем число соседей в диапазоне от 1 до 30 включительно\n",
    "\n",
    "params_knn = {\n",
    "    'n_neighbors': list(range(1, 31))\n",
    "}\n",
    "\n",
    "grid_knn = GridSearchCV(knn_model, param_grid=params_knn, cv=kf, \n",
    "                          scoring='roc_auc').fit(df_X_numerical, df_Y)\n",
    "\n",
    "print('Best parameters:', grid_knn.best_params_)\n",
    "print('Best score:', grid_knn.best_score_)\n",
    "\n",
    "plt.errorbar(list(grid_knn.cv_results_['param_n_neighbors']), \n",
    "             list(grid_knn.cv_results_['mean_test_score']), \n",
    "             list(grid_knn.cv_results_['std_test_score']), \n",
    "             linestyle='None',\n",
    "             marker='^')\n",
    "\n",
    "plt.title('kNN')\n",
    "plt.xlabel('n_neighbors')\n",
    "plt.ylabel('roc_auc')\n",
    "plt.show()"
   ]
  },
  {
   "cell_type": "code",
   "execution_count": 37,
   "metadata": {},
   "outputs": [
    {
     "name": "stdout",
     "output_type": "stream",
     "text": [
      "Best parameters: {'max_depth': 7}\n",
      "Best score: 0.8450480317978357\n"
     ]
    },
    {
     "data": {
      "image/png": "[encoded data removed]",
      "text/plain": [
       "<Figure size 432x288 with 1 Axes>"
      ]
     },
     "metadata": {
      "needs_background": "light"
     },
     "output_type": "display_data"
    }
   ],
   "source": [
    "# Decision Tree\n",
    "\n",
    "from sklearn import tree\n",
    "\n",
    "tree_model = tree.DecisionTreeClassifier()\n",
    "\n",
    "# оптимизируем глубину дерева от 1 до 30 включительно\n",
    "\n",
    "params_tree = {\n",
    "    'max_depth': list(range(1, 21))\n",
    "}\n",
    "\n",
    "grid_tree = GridSearchCV(tree_model, param_grid=params_tree, cv=kf, \n",
    "                          scoring='roc_auc').fit(df_X_numerical, df_Y)\n",
    "\n",
    "print('Best parameters:', grid_tree.best_params_)\n",
    "print('Best score:', grid_tree.best_score_)\n",
    "\n",
    "plt.errorbar(list(grid_tree.cv_results_['param_max_depth']), \n",
    "             list(grid_tree.cv_results_['mean_test_score']), \n",
    "             list(grid_tree.cv_results_['std_test_score']), \n",
    "             linestyle='None',\n",
    "             marker='^')\n",
    "\n",
    "plt.title('Decision Tree')\n",
    "plt.xlabel('max_depth')\n",
    "plt.ylabel('roc_auc')\n",
    "plt.show()"
   ]
  },
  {
   "cell_type": "code",
   "execution_count": 19,
   "metadata": {},
   "outputs": [
    {
     "name": "stderr",
     "output_type": "stream",
     "text": [
      "c:\\Users\\iljag\\anaconda3\\envs\\homework\\lib\\site-packages\\sklearn\\linear_model\\_stochastic_gradient.py:702: ConvergenceWarning: Maximum number of iteration reached before convergence. Consider increasing max_iter to improve the fit.\n",
      "  warnings.warn(\n",
      "c:\\Users\\iljag\\anaconda3\\envs\\homework\\lib\\site-packages\\sklearn\\linear_model\\_stochastic_gradient.py:702: ConvergenceWarning: Maximum number of iteration reached before convergence. Consider increasing max_iter to improve the fit.\n",
      "  warnings.warn(\n",
      "c:\\Users\\iljag\\anaconda3\\envs\\homework\\lib\\site-packages\\sklearn\\linear_model\\_stochastic_gradient.py:702: ConvergenceWarning: Maximum number of iteration reached before convergence. Consider increasing max_iter to improve the fit.\n",
      "  warnings.warn(\n",
      "c:\\Users\\iljag\\anaconda3\\envs\\homework\\lib\\site-packages\\sklearn\\linear_model\\_stochastic_gradient.py:702: ConvergenceWarning: Maximum number of iteration reached before convergence. Consider increasing max_iter to improve the fit.\n",
      "  warnings.warn(\n",
      "c:\\Users\\iljag\\anaconda3\\envs\\homework\\lib\\site-packages\\sklearn\\linear_model\\_stochastic_gradient.py:702: ConvergenceWarning: Maximum number of iteration reached before convergence. Consider increasing max_iter to improve the fit.\n",
      "  warnings.warn(\n",
      "c:\\Users\\iljag\\anaconda3\\envs\\homework\\lib\\site-packages\\sklearn\\linear_model\\_stochastic_gradient.py:702: ConvergenceWarning: Maximum number of iteration reached before convergence. Consider increasing max_iter to improve the fit.\n",
      "  warnings.warn(\n",
      "c:\\Users\\iljag\\anaconda3\\envs\\homework\\lib\\site-packages\\sklearn\\linear_model\\_stochastic_gradient.py:702: ConvergenceWarning: Maximum number of iteration reached before convergence. Consider increasing max_iter to improve the fit.\n",
      "  warnings.warn(\n",
      "c:\\Users\\iljag\\anaconda3\\envs\\homework\\lib\\site-packages\\sklearn\\linear_model\\_stochastic_gradient.py:702: ConvergenceWarning: Maximum number of iteration reached before convergence. Consider increasing max_iter to improve the fit.\n",
      "  warnings.warn(\n",
      "c:\\Users\\iljag\\anaconda3\\envs\\homework\\lib\\site-packages\\sklearn\\linear_model\\_stochastic_gradient.py:702: ConvergenceWarning: Maximum number of iteration reached before convergence. Consider increasing max_iter to improve the fit.\n",
      "  warnings.warn(\n",
      "c:\\Users\\iljag\\anaconda3\\envs\\homework\\lib\\site-packages\\sklearn\\linear_model\\_stochastic_gradient.py:702: ConvergenceWarning: Maximum number of iteration reached before convergence. Consider increasing max_iter to improve the fit.\n",
      "  warnings.warn(\n"
     ]
    },
    {
     "name": "stdout",
     "output_type": "stream",
     "text": [
      "Best parameters: {'loss': 'hinge'}\n",
      "Best score: 0.6169513387917519\n"
     ]
    },
    {
     "data": {
      "image/png": "[encoded data removed]",
      "text/plain": [
       "<Figure size 432x288 with 1 Axes>"
      ]
     },
     "metadata": {
      "needs_background": "light"
     },
     "output_type": "display_data"
    }
   ],
   "source": [
    "# SGDClassifier\n",
    "\n",
    "from sklearn.linear_model import SGDClassifier\n",
    "\n",
    "SGD_model = SGDClassifier()\n",
    "\n",
    "# ищем оптимальную функцию потерь (взяты из документации)\n",
    "\n",
    "params_SGD = {\n",
    "    'loss': ['hinge', 'log_loss', 'modified_huber', 'squared_hinge', 'perceptron', 'squared_error', 'huber', 'epsilon_insensitive', 'squared_epsilon_insensitive']\n",
    "}\n",
    "\n",
    "grid_SGD = GridSearchCV(SGD_model, param_grid=params_SGD, cv=kf, \n",
    "                          scoring='roc_auc').fit(df_X_numerical, df_Y)\n",
    "\n",
    "print('Best parameters:', grid_SGD.best_params_)\n",
    "print('Best score:', grid_SGD.best_score_)\n",
    "\n",
    "plt.errorbar(list(grid_SGD.cv_results_['param_loss']), \n",
    "             list(grid_SGD.cv_results_['mean_test_score']), \n",
    "             list(grid_SGD.cv_results_['std_test_score']), \n",
    "             linestyle='None',\n",
    "             marker='^')\n",
    "\n",
    "plt.title('SGDClassifier')\n",
    "plt.xlabel('loss')\n",
    "plt.ylabel('roc_auc')\n",
    "plt.xticks(rotation=45, ha='right')\n",
    "plt.show()"
   ]
  },
  {
   "cell_type": "markdown",
   "metadata": {},
   "source": [
    "Промежуточные выводы по графикам и моделям:\n",
    "- Параметры метода ближайших соседей и деревьев решений достигают оптимума при определенном значении, после чего метрика roc_auc начинает падать\n",
    "- В случае стохастического градиентного спуска наиболее оптимальной оказалась функция потерь \"hinge\" (которая используется алгоритмом по-дефолту)"
   ]
  },
  {
   "cell_type": "markdown",
   "metadata": {},
   "source": [
    "Что вы можете сказать о получившихся графиках?\n",
    "\n",
    "**Задание 3 (0.5 балла)** Также подберём число деревьев (*n_estimators*) в алгоритме RandomForest. Как известно, в общем случае Random Forest не переобучается с увеличением количества деревьев, так что при увеличении этого гиперпараметра его качество не будет становиться хуже. Поэтому подберите такое количество деревьев, при котором качество на кросс-валидации стабилизируется. Обратите внимание, что для проведения этого эксперимента не нужно с нуля обучать много случайных лесов с различными количествами деревьев. Обучите один случайный лес с максимальным интересным количеством деревьев, а затем рассмотрите подмножества разных размеров, состоящие из деревьев построенного леса (поле [*estimators_*](http://scikit-learn.org/stable/modules/generated/sklearn.ensemble.RandomForestClassifier.html)). В дальнейших экспериментах используйте это количество деревьев."
   ]
  },
  {
   "cell_type": "code",
   "execution_count": 20,
   "metadata": {
    "collapsed": true,
    "jupyter": {
     "outputs_hidden": true
    }
   },
   "outputs": [
    {
     "name": "stdout",
     "output_type": "stream",
     "text": [
      "Best parameters: {'n_estimators': 1500}\n",
      "Best score: 0.8252735829329684\n"
     ]
    },
    {
     "data": {
      "image/png": "[encoded data removed]",
      "text/plain": [
       "<Figure size 432x288 with 1 Axes>"
      ]
     },
     "metadata": {
      "needs_background": "light"
     },
     "output_type": "display_data"
    }
   ],
   "source": [
    "# RFC\n",
    "\n",
    "from sklearn.ensemble import RandomForestClassifier\n",
    "\n",
    "RFC_model = RandomForestClassifier(random_state=0)\n",
    "\n",
    "# оптимизируем кол-во деревьев\n",
    "# к сожалению не очень поняла, как оптимизировать по полю estimators_, поэтому использую менее эффективный алгоритм\n",
    "\n",
    "params_RFC = {\n",
    "    'n_estimators': (10, 100, 200, 300, 400, 500, 1000, 1500, 2000)\n",
    "}\n",
    "\n",
    "grid_RFC = GridSearchCV(RFC_model, param_grid=params_RFC, cv=kf, \n",
    "                          scoring='roc_auc').fit(df_X_numerical, df_Y)\n",
    "\n",
    "print('Best parameters:', grid_RFC.best_params_)\n",
    "print('Best score:', grid_RFC.best_score_)\n",
    "\n",
    "plt.errorbar(list(grid_RFC.cv_results_['param_n_estimators']), \n",
    "             list(grid_RFC.cv_results_['mean_test_score']), \n",
    "             list(grid_RFC.cv_results_['std_test_score']), \n",
    "             linestyle='None',\n",
    "             marker='^')\n",
    "\n",
    "plt.title('RFC')\n",
    "plt.xlabel('n_estimators')\n",
    "plt.ylabel('roc_auc')\n",
    "plt.show()"
   ]
  },
  {
   "cell_type": "markdown",
   "metadata": {},
   "source": [
    "Визуально анализ показывает, что при кол-ве деревьев равном 300 функция roc_auc не возрастает значимым образом."
   ]
  },
  {
   "cell_type": "markdown",
   "metadata": {},
   "source": [
    "**Задание 4 (0.5 балла)** Подберём число деревьев (*n_estimators*) в алгоритме GradientBoosting. Мы знаем, что ошибка бустинга на тестовых данных, как правило, имеет U-образную форму, то есть сначала уменьшается, а при достижении некоторого числа деревьев начинает расти. Нарисуйте график ошибки в зависимости от числа деревьев. Подберите n_estimators, соответствующий минимуму ошибки."
   ]
  },
  {
   "cell_type": "code",
   "execution_count": 24,
   "metadata": {},
   "outputs": [
    {
     "name": "stdout",
     "output_type": "stream",
     "text": [
      "Best parameters: {'n_estimators': 200}\n",
      "Best score: 0.8701624781914138\n"
     ]
    },
    {
     "data": {
      "image/png": "[encoded data removed]",
      "text/plain": [
       "<Figure size 432x288 with 1 Axes>"
      ]
     },
     "metadata": {
      "needs_background": "light"
     },
     "output_type": "display_data"
    }
   ],
   "source": [
    "# GBC\n",
    "\n",
    "from sklearn.ensemble import GradientBoostingClassifier\n",
    "\n",
    "GBC_model = GradientBoostingClassifier(random_state=0)\n",
    "\n",
    "# оптимизируем кол-во деревьев (в диапазоне от 100 до 1000 с шагом в 100)\n",
    "\n",
    "params_GBC = {\n",
    "    'n_estimators': list(range(100, 1001, 100))\n",
    "}\n",
    "\n",
    "grid_GBC = GridSearchCV(GBC_model, param_grid=params_GBC, cv=kf, \n",
    "                          scoring='roc_auc').fit(df_X_numerical, df_Y)\n",
    "\n",
    "print('Best parameters:', grid_GBC.best_params_)\n",
    "print('Best score:', grid_GBC.best_score_)\n",
    "\n",
    "plt.errorbar(list(grid_GBC.cv_results_['param_n_estimators']), \n",
    "             list(grid_GBC.cv_results_['mean_test_score']), \n",
    "             list(grid_GBC.cv_results_['std_test_score']), \n",
    "             linestyle='None',\n",
    "             marker='^')\n",
    "\n",
    "plt.title('GBC')\n",
    "plt.xlabel('n_estimators')\n",
    "plt.ylabel('roc_auc')\n",
    "plt.show()"
   ]
  },
  {
   "cell_type": "markdown",
   "metadata": {},
   "source": [
    "При обучении алгоритмов стоит обращать внимание не только на качество, но и каким образом они работают с данными. В этой задаче получилось так, что некоторые из используемых алгоритмов чувствительны к масштабу признаков. Чтобы убедиться, что это как-то могло повлиять на качество давайте посмотрим на сами признаки.\n",
    "\n",
    "**Задание 5 (0.5 балла)** Постройте гистограммы для признаков *age*, *fnlwgt*, *capital-gain*. Глядя на получившиеся графики в чем заключается особенность данных? На какие алгоритмы это может повлиять? Может ли масшитабирование повлиять на работу этих алгоритмов?"
   ]
  },
  {
   "cell_type": "code",
   "execution_count": 34,
   "metadata": {
    "collapsed": true,
    "jupyter": {
     "outputs_hidden": true
    }
   },
   "outputs": [
    {
     "data": {
      "image/png": "[encoded data removed]",
      "text/plain": [
       "<Figure size 720x504 with 3 Axes>"
      ]
     },
     "metadata": {
      "needs_background": "light"
     },
     "output_type": "display_data"
    }
   ],
   "source": [
    "fig, axs = plt.subplots(1, 3, tight_layout=True)\n",
    "\n",
    "axs[0].hist(df_X_numerical['age'], bins=100)\n",
    "axs[0].set_title('age')\n",
    "axs[1].hist(df_X_numerical['fnlwgt'], bins=100)\n",
    "axs[1].set_title('fnlwgt')\n",
    "axs[2].hist(df_X_numerical['capital-gain'], bins=100)\n",
    "axs[2].set_title('capital-gain')\n",
    "\n",
    "fig.set_figheight(7)\n",
    "fig.set_figwidth(10)\n",
    "\n",
    "plt.show()"
   ]
  },
  {
   "cell_type": "markdown",
   "metadata": {},
   "source": [
    "Явная особенность переменной 'capital-gain' заключается в большом количестве нулевых значений, а также в наличии выбросов (большая часть данных менее 20,000, но есть значение около 100,000)\n",
    "Переменная fnlwgt напоминает лог-нормальное распределение и также обладает выбросами\n",
    "Переменная age (по очевидным причинам) является наиболее \"стабильной\" - с ярко выраженным распределением, напоминающее нормальное (но с длинным \"хвостом\" справа), и с отсутствием выбросов\n",
    "Очевидным образом одним из самых чувствительных алгоритмов к выбросам и неравномерностям в данных является метод ближайших соседей, который считает расстояния между точками в абсолютных величинах (что заметно по низкому качеству значения roc_auc относительно большинства других алгоритмов).\n",
    "Стохастический градиентный спуск (по которому мы также получили низкое качество моделей) тоже является чувствительным к выбросам, см.: https://medium.com/bayshore-intelligence-solutions/why-is-stochastic-gradient-descent-2c17baf016de"
   ]
  },
  {
   "cell_type": "markdown",
   "metadata": {},
   "source": [
    "Масштабирование признаков можно выполнить, например, одним из следующих способов способами:\n",
    " - $x_{new} = \\dfrac{x - \\mu}{\\sigma}$, где $\\mu, \\sigma$ — среднее и стандартное отклонение значения признака по всей выборке (см. функцию [scale](http://scikit-learn.org/stable/modules/generated/sklearn.preprocessing.scale.html))\n",
    " - $x_{new} = \\dfrac{x - x_{min}}{x_{max} - x_{min}}$, где $[x_{min}, x_{max}]$ — минимальный интервал значений признака\n",
    "\n",
    "Похожие схемы масштабирования приведены в классах [StandardScaler](http://scikit-learn.org/stable/modules/generated/sklearn.preprocessing.StandardScaler.html#sklearn.preprocessing.StandardScaler) и [MinMaxScaler](http://scikit-learn.org/stable/modules/generated/sklearn.preprocessing.MinMaxScaler.html#sklearn.preprocessing.MinMaxScaler).\n",
    " \n",
    "**Задание 6 (1 балл)** Масштабируйте все вещественные признаки одним из указанных способов и подберите оптимальные значения гиперпараметров аналогично пункту выше."
   ]
  },
  {
   "cell_type": "code",
   "execution_count": 35,
   "metadata": {
    "collapsed": true,
    "jupyter": {
     "outputs_hidden": true
    }
   },
   "outputs": [
    {
     "data": {
      "text/plain": [
       "array([[0.23287671, 0.18120681, 0.53333333, 0.00594006, 0.        ,\n",
       "        0.60204082],\n",
       "       [0.31506849, 0.11668326, 0.6       , 0.        , 0.        ,\n",
       "        0.39795918],\n",
       "       [0.26027397, 0.10819959, 0.8       , 0.        , 0.        ,\n",
       "        0.39795918],\n",
       "       ...,\n",
       "       [0.1369863 , 0.05811029, 0.8       , 0.        , 0.        ,\n",
       "        0.39795918],\n",
       "       [0.57534247, 0.17019073, 0.53333333, 0.        , 0.        ,\n",
       "        0.39795918],\n",
       "       [0.21917808, 0.0271468 , 0.8       , 0.        , 0.43663912,\n",
       "        0.44897959]])"
      ]
     },
     "execution_count": 35,
     "metadata": {},
     "output_type": "execute_result"
    }
   ],
   "source": [
    "from sklearn.preprocessing import MinMaxScaler\n",
    "\n",
    "scaler = MinMaxScaler()\n",
    "# transform data\n",
    "scaled_X_numerical = scaler.fit_transform(df_X_numerical)\n",
    "scaled_X_numerical"
   ]
  },
  {
   "cell_type": "code",
   "execution_count": 40,
   "metadata": {},
   "outputs": [
    {
     "name": "stdout",
     "output_type": "stream",
     "text": [
      "Best parameters: {'n_neighbors': 30}\n",
      "Best score: 0.8293088314184383\n"
     ]
    },
    {
     "data": {
      "image/png": "[encoded data removed]",
      "text/plain": [
       "<Figure size 432x288 with 1 Axes>"
      ]
     },
     "metadata": {
      "needs_background": "light"
     },
     "output_type": "display_data"
    }
   ],
   "source": [
    "# kNN (scaled)\n",
    "\n",
    "grid_knn_scaled = GridSearchCV(knn_model, param_grid=params_knn, cv=kf, \n",
    "                          scoring='roc_auc').fit(scaled_X_numerical, df_Y)\n",
    "\n",
    "print('Best parameters:', grid_knn_scaled.best_params_)\n",
    "print('Best score:', grid_knn_scaled.best_score_)\n",
    "\n",
    "plt.errorbar(list(grid_knn_scaled.cv_results_['param_n_neighbors']), \n",
    "             list(grid_knn_scaled.cv_results_['mean_test_score']), \n",
    "             list(grid_knn_scaled.cv_results_['std_test_score']), \n",
    "             linestyle='None',\n",
    "             marker='^')\n",
    "\n",
    "plt.title('kNN scaled')\n",
    "plt.xlabel('n_neighbors')\n",
    "plt.ylabel('roc_auc')\n",
    "plt.show()"
   ]
  },
  {
   "cell_type": "code",
   "execution_count": 41,
   "metadata": {},
   "outputs": [
    {
     "name": "stdout",
     "output_type": "stream",
     "text": [
      "Best parameters: {'max_depth': 7}\n",
      "Best score: 0.8451949774666453\n"
     ]
    },
    {
     "data": {
      "image/png": "[encoded data removed]",
      "text/plain": [
       "<Figure size 432x288 with 1 Axes>"
      ]
     },
     "metadata": {
      "needs_background": "light"
     },
     "output_type": "display_data"
    }
   ],
   "source": [
    "# Tree (scaled)\n",
    "\n",
    "grid_tree_scaled = GridSearchCV(tree_model, param_grid=params_tree, cv=kf, \n",
    "                          scoring='roc_auc').fit(scaled_X_numerical, df_Y)\n",
    "\n",
    "print('Best parameters:', grid_tree_scaled.best_params_)\n",
    "print('Best score:', grid_tree_scaled.best_score_)\n",
    "\n",
    "plt.errorbar(list(grid_tree_scaled.cv_results_['param_max_depth']), \n",
    "             list(grid_tree_scaled.cv_results_['mean_test_score']), \n",
    "             list(grid_tree_scaled.cv_results_['std_test_score']), \n",
    "             linestyle='None',\n",
    "             marker='^')\n",
    "\n",
    "plt.title('Decision Tree scaled')\n",
    "plt.xlabel('max_depth')\n",
    "plt.ylabel('roc_auc')\n",
    "plt.show()"
   ]
  },
  {
   "cell_type": "code",
   "execution_count": 42,
   "metadata": {},
   "outputs": [
    {
     "name": "stderr",
     "output_type": "stream",
     "text": [
      "c:\\Users\\iljag\\anaconda3\\envs\\homework\\lib\\site-packages\\sklearn\\linear_model\\_stochastic_gradient.py:702: ConvergenceWarning: Maximum number of iteration reached before convergence. Consider increasing max_iter to improve the fit.\n",
      "  warnings.warn(\n",
      "c:\\Users\\iljag\\anaconda3\\envs\\homework\\lib\\site-packages\\sklearn\\linear_model\\_stochastic_gradient.py:702: ConvergenceWarning: Maximum number of iteration reached before convergence. Consider increasing max_iter to improve the fit.\n",
      "  warnings.warn(\n",
      "c:\\Users\\iljag\\anaconda3\\envs\\homework\\lib\\site-packages\\sklearn\\linear_model\\_stochastic_gradient.py:702: ConvergenceWarning: Maximum number of iteration reached before convergence. Consider increasing max_iter to improve the fit.\n",
      "  warnings.warn(\n",
      "c:\\Users\\iljag\\anaconda3\\envs\\homework\\lib\\site-packages\\sklearn\\linear_model\\_stochastic_gradient.py:702: ConvergenceWarning: Maximum number of iteration reached before convergence. Consider increasing max_iter to improve the fit.\n",
      "  warnings.warn(\n",
      "c:\\Users\\iljag\\anaconda3\\envs\\homework\\lib\\site-packages\\sklearn\\linear_model\\_stochastic_gradient.py:702: ConvergenceWarning: Maximum number of iteration reached before convergence. Consider increasing max_iter to improve the fit.\n",
      "  warnings.warn(\n"
     ]
    },
    {
     "name": "stdout",
     "output_type": "stream",
     "text": [
      "Best parameters: {'loss': 'modified_huber'}\n",
      "Best score: 0.8283066036516029\n"
     ]
    },
    {
     "data": {
      "image/png": "[encoded data removed]",
      "text/plain": [
       "<Figure size 432x288 with 1 Axes>"
      ]
     },
     "metadata": {
      "needs_background": "light"
     },
     "output_type": "display_data"
    }
   ],
   "source": [
    "# SGD (scaled)\n",
    "\n",
    "grid_SGD_scaled = GridSearchCV(SGD_model, param_grid=params_SGD, cv=kf, \n",
    "                          scoring='roc_auc').fit(scaled_X_numerical, df_Y)\n",
    "\n",
    "print('Best parameters:', grid_SGD_scaled.best_params_)\n",
    "print('Best score:', grid_SGD_scaled.best_score_)\n",
    "\n",
    "plt.errorbar(list(grid_SGD_scaled.cv_results_['param_loss']), \n",
    "             list(grid_SGD_scaled.cv_results_['mean_test_score']), \n",
    "             list(grid_SGD_scaled.cv_results_['std_test_score']), \n",
    "             linestyle='None',\n",
    "             marker='^')\n",
    "\n",
    "plt.title('SGDClassifier scaled')\n",
    "plt.xlabel('loss')\n",
    "plt.ylabel('roc_auc')\n",
    "plt.xticks(rotation=45, ha='right')\n",
    "plt.show()"
   ]
  },
  {
   "cell_type": "code",
   "execution_count": 43,
   "metadata": {},
   "outputs": [
    {
     "name": "stdout",
     "output_type": "stream",
     "text": [
      "Best parameters: {'n_estimators': 1500}\n",
      "Best score: 0.8252661635445795\n"
     ]
    },
    {
     "data": {
      "image/png": "[encoded data removed]",
      "text/plain": [
       "<Figure size 432x288 with 1 Axes>"
      ]
     },
     "metadata": {
      "needs_background": "light"
     },
     "output_type": "display_data"
    }
   ],
   "source": [
    "# RFC (scaled)\n",
    "\n",
    "grid_RFC_scaled = GridSearchCV(RFC_model, param_grid=params_RFC, cv=kf, \n",
    "                          scoring='roc_auc').fit(scaled_X_numerical, df_Y)\n",
    "\n",
    "print('Best parameters:', grid_RFC_scaled.best_params_)\n",
    "print('Best score:', grid_RFC_scaled.best_score_)\n",
    "\n",
    "plt.errorbar(list(grid_RFC_scaled.cv_results_['param_n_estimators']), \n",
    "             list(grid_RFC_scaled.cv_results_['mean_test_score']), \n",
    "             list(grid_RFC_scaled.cv_results_['std_test_score']), \n",
    "             linestyle='None',\n",
    "             marker='^')\n",
    "\n",
    "plt.title('RFC scaled')\n",
    "plt.xlabel('n_estimators')\n",
    "plt.ylabel('roc_auc')\n",
    "plt.show()"
   ]
  },
  {
   "cell_type": "code",
   "execution_count": 44,
   "metadata": {},
   "outputs": [
    {
     "name": "stdout",
     "output_type": "stream",
     "text": [
      "Best parameters: {'n_estimators': 200}\n",
      "Best score: 0.870224959990264\n"
     ]
    },
    {
     "data": {
      "image/png": "[encoded data removed]",
      "text/plain": [
       "<Figure size 432x288 with 1 Axes>"
      ]
     },
     "metadata": {
      "needs_background": "light"
     },
     "output_type": "display_data"
    }
   ],
   "source": [
    "# GBC (scaled)\n",
    "\n",
    "grid_GBC_scaled = GridSearchCV(GBC_model, param_grid=params_GBC, cv=kf, \n",
    "                          scoring='roc_auc').fit(scaled_X_numerical, df_Y)\n",
    "\n",
    "print('Best parameters:', grid_GBC_scaled.best_params_)\n",
    "print('Best score:', grid_GBC_scaled.best_score_)\n",
    "\n",
    "plt.errorbar(list(grid_GBC_scaled.cv_results_['param_n_estimators']), \n",
    "             list(grid_GBC_scaled.cv_results_['mean_test_score']), \n",
    "             list(grid_GBC_scaled.cv_results_['std_test_score']), \n",
    "             linestyle='None',\n",
    "             marker='^')\n",
    "\n",
    "plt.title('GBC scaled')\n",
    "plt.xlabel('n_estimators')\n",
    "plt.ylabel('roc_auc')\n",
    "plt.show()"
   ]
  },
  {
   "cell_type": "markdown",
   "metadata": {},
   "source": [
    "Как и ожидалось, существенным образом выросло качество метода ближайших соседей и стохастического градиентного спуска - алгоритмов с наименьшим качеством в первой итерации модели, которые наиболее чувствительны к выбросам и разбросу данных.\n",
    "При этом сильно изменились и оптимальные гипермараметры указанных двух алгоритмов."
   ]
  },
  {
   "cell_type": "markdown",
   "metadata": {},
   "source": [
    "Изменилось ли качество у некоторых алгоритмов?"
   ]
  },
  {
   "cell_type": "markdown",
   "metadata": {},
   "source": [
    "**Задание 7 (1.25 балла)** Теперь сделайте перебор нескольких гиперпараметров по сетке и найдите оптимальные комбинации (лучшее среднее значение качества) для каждого алгоритма в данном случае: \n",
    " - KNN — число соседей (*n_neighbors*) и метрика (*metric*)\n",
    " - DecisonTree — глубина дерева (*max_depth*) и критерий разбиения (*criterion*)\n",
    " - RandomForest — критерий разбиения в деревьях (*criterion*) и *max_features* (при фиксированном количестве деревьев, найденном ранее)\n",
    " - GradientBoosting — критерий разбиения в деревьях (*criterion*) и *max_features* (при фиксированном количестве деревьев, найденном ранее)\n",
    " - SGDClassifier — оптимизируемая функция (*loss*) и *penalty*\n",
    " \n",
    "Обратите внимание, что эта операция может быть ресурсо- и трудоемкой. Как оптимизировать подбор параметров по сетке сказано в разделе \"Подбор гиперпараметров модели\""
   ]
  },
  {
   "cell_type": "code",
   "execution_count": null,
   "metadata": {
    "collapsed": true,
    "jupyter": {
     "outputs_hidden": true
    }
   },
   "outputs": [],
   "source": [
    "#your code here"
   ]
  },
  {
   "cell_type": "markdown",
   "metadata": {},
   "source": [
    "Какой из алгоритмов имеет наилучшее качество? \n",
    "\n",
    "**Задание 8 (0.5 балла)** Сравните алгоритмы с точки зрения времени обучения. Обучение какого из алгоритмов работает дольше всего и, как вы думаете, почему?"
   ]
  },
  {
   "cell_type": "markdown",
   "metadata": {},
   "source": [
    "Базируясь на переборе одного параметра наиболее долго обучались случайный лес и градиентный бустинг, что обусловлено тем, что данный алгоритмы относятся к классу ансамблевых."
   ]
  },
  {
   "cell_type": "markdown",
   "metadata": {},
   "source": [
    "## Добавление категориальных признаков в модели\n",
    "\n",
    "Пока мы не использовали нечисловые признаки, которые есть в датасете. Давайте посмотрим, правильно ли мы сделали и увеличится ли качество моделей после добавлениях этих признаков. \n",
    "\n",
    "**Задание 9 (0.5 балла)** Преобразуйте все категориальные признаки с помощью метода one-hot-encoding (например, это можно сделать с помощью функции [OneHotEncoder](https://scikit-learn.org/stable/modules/generated/sklearn.preprocessing.OneHotEncoder.html), [pandas.get_dummies](http://pandas.pydata.org/pandas-docs/stable/generated/pandas.get_dummies.html) или [DictVectorizer](http://scikit-learn.org/stable/modules/generated/sklearn.feature_extraction.DictVectorizer.html) из sklearn)."
   ]
  },
  {
   "cell_type": "code",
   "execution_count": 48,
   "metadata": {
    "collapsed": true,
    "jupyter": {
     "outputs_hidden": true
    }
   },
   "outputs": [
    {
     "data": {
      "text/html": [
       "<div>\n",
       "<style scoped>\n",
       "    .dataframe tbody tr th:only-of-type {\n",
       "        vertical-align: middle;\n",
       "    }\n",
       "\n",
       "    .dataframe tbody tr th {\n",
       "        vertical-align: top;\n",
       "    }\n",
       "\n",
       "    .dataframe thead th {\n",
       "        text-align: right;\n",
       "    }\n",
       "</style>\n",
       "<table border=\"1\" class=\"dataframe\">\n",
       "  <thead>\n",
       "    <tr style=\"text-align: right;\">\n",
       "      <th></th>\n",
       "      <th>age</th>\n",
       "      <th>fnlwgt</th>\n",
       "      <th>education-num</th>\n",
       "      <th>capital-gain</th>\n",
       "      <th>capital-loss</th>\n",
       "      <th>hours-per-week</th>\n",
       "      <th>education_10th</th>\n",
       "      <th>education_11th</th>\n",
       "      <th>education_12th</th>\n",
       "      <th>education_1st-4th</th>\n",
       "      <th>...</th>\n",
       "      <th>relationship_Not-in-family</th>\n",
       "      <th>relationship_Other-relative</th>\n",
       "      <th>relationship_Own-child</th>\n",
       "      <th>relationship_Unmarried</th>\n",
       "      <th>relationship_Wife</th>\n",
       "      <th>race_Amer-Indian-Eskimo</th>\n",
       "      <th>race_Asian-Pac-Islander</th>\n",
       "      <th>race_Black</th>\n",
       "      <th>race_Other</th>\n",
       "      <th>race_White</th>\n",
       "    </tr>\n",
       "  </thead>\n",
       "  <tbody>\n",
       "    <tr>\n",
       "      <th>0</th>\n",
       "      <td>34</td>\n",
       "      <td>284843</td>\n",
       "      <td>9</td>\n",
       "      <td>594</td>\n",
       "      <td>0</td>\n",
       "      <td>60</td>\n",
       "      <td>0</td>\n",
       "      <td>0</td>\n",
       "      <td>0</td>\n",
       "      <td>0</td>\n",
       "      <td>...</td>\n",
       "      <td>1</td>\n",
       "      <td>0</td>\n",
       "      <td>0</td>\n",
       "      <td>0</td>\n",
       "      <td>0</td>\n",
       "      <td>0</td>\n",
       "      <td>0</td>\n",
       "      <td>1</td>\n",
       "      <td>0</td>\n",
       "      <td>0</td>\n",
       "    </tr>\n",
       "    <tr>\n",
       "      <th>1</th>\n",
       "      <td>40</td>\n",
       "      <td>190290</td>\n",
       "      <td>10</td>\n",
       "      <td>0</td>\n",
       "      <td>0</td>\n",
       "      <td>40</td>\n",
       "      <td>0</td>\n",
       "      <td>0</td>\n",
       "      <td>0</td>\n",
       "      <td>0</td>\n",
       "      <td>...</td>\n",
       "      <td>1</td>\n",
       "      <td>0</td>\n",
       "      <td>0</td>\n",
       "      <td>0</td>\n",
       "      <td>0</td>\n",
       "      <td>0</td>\n",
       "      <td>0</td>\n",
       "      <td>0</td>\n",
       "      <td>0</td>\n",
       "      <td>1</td>\n",
       "    </tr>\n",
       "    <tr>\n",
       "      <th>2</th>\n",
       "      <td>36</td>\n",
       "      <td>177858</td>\n",
       "      <td>13</td>\n",
       "      <td>0</td>\n",
       "      <td>0</td>\n",
       "      <td>40</td>\n",
       "      <td>0</td>\n",
       "      <td>0</td>\n",
       "      <td>0</td>\n",
       "      <td>0</td>\n",
       "      <td>...</td>\n",
       "      <td>0</td>\n",
       "      <td>0</td>\n",
       "      <td>1</td>\n",
       "      <td>0</td>\n",
       "      <td>0</td>\n",
       "      <td>0</td>\n",
       "      <td>0</td>\n",
       "      <td>0</td>\n",
       "      <td>0</td>\n",
       "      <td>1</td>\n",
       "    </tr>\n",
       "    <tr>\n",
       "      <th>3</th>\n",
       "      <td>22</td>\n",
       "      <td>184756</td>\n",
       "      <td>10</td>\n",
       "      <td>0</td>\n",
       "      <td>0</td>\n",
       "      <td>30</td>\n",
       "      <td>0</td>\n",
       "      <td>0</td>\n",
       "      <td>0</td>\n",
       "      <td>0</td>\n",
       "      <td>...</td>\n",
       "      <td>0</td>\n",
       "      <td>0</td>\n",
       "      <td>1</td>\n",
       "      <td>0</td>\n",
       "      <td>0</td>\n",
       "      <td>0</td>\n",
       "      <td>0</td>\n",
       "      <td>0</td>\n",
       "      <td>0</td>\n",
       "      <td>1</td>\n",
       "    </tr>\n",
       "    <tr>\n",
       "      <th>4</th>\n",
       "      <td>47</td>\n",
       "      <td>149700</td>\n",
       "      <td>13</td>\n",
       "      <td>15024</td>\n",
       "      <td>0</td>\n",
       "      <td>40</td>\n",
       "      <td>0</td>\n",
       "      <td>0</td>\n",
       "      <td>0</td>\n",
       "      <td>0</td>\n",
       "      <td>...</td>\n",
       "      <td>0</td>\n",
       "      <td>0</td>\n",
       "      <td>0</td>\n",
       "      <td>0</td>\n",
       "      <td>0</td>\n",
       "      <td>0</td>\n",
       "      <td>0</td>\n",
       "      <td>0</td>\n",
       "      <td>0</td>\n",
       "      <td>1</td>\n",
       "    </tr>\n",
       "    <tr>\n",
       "      <th>...</th>\n",
       "      <td>...</td>\n",
       "      <td>...</td>\n",
       "      <td>...</td>\n",
       "      <td>...</td>\n",
       "      <td>...</td>\n",
       "      <td>...</td>\n",
       "      <td>...</td>\n",
       "      <td>...</td>\n",
       "      <td>...</td>\n",
       "      <td>...</td>\n",
       "      <td>...</td>\n",
       "      <td>...</td>\n",
       "      <td>...</td>\n",
       "      <td>...</td>\n",
       "      <td>...</td>\n",
       "      <td>...</td>\n",
       "      <td>...</td>\n",
       "      <td>...</td>\n",
       "      <td>...</td>\n",
       "      <td>...</td>\n",
       "      <td>...</td>\n",
       "    </tr>\n",
       "    <tr>\n",
       "      <th>16275</th>\n",
       "      <td>25</td>\n",
       "      <td>514716</td>\n",
       "      <td>13</td>\n",
       "      <td>0</td>\n",
       "      <td>0</td>\n",
       "      <td>40</td>\n",
       "      <td>0</td>\n",
       "      <td>0</td>\n",
       "      <td>0</td>\n",
       "      <td>0</td>\n",
       "      <td>...</td>\n",
       "      <td>0</td>\n",
       "      <td>0</td>\n",
       "      <td>1</td>\n",
       "      <td>0</td>\n",
       "      <td>0</td>\n",
       "      <td>0</td>\n",
       "      <td>0</td>\n",
       "      <td>1</td>\n",
       "      <td>0</td>\n",
       "      <td>0</td>\n",
       "    </tr>\n",
       "    <tr>\n",
       "      <th>16276</th>\n",
       "      <td>32</td>\n",
       "      <td>207668</td>\n",
       "      <td>13</td>\n",
       "      <td>15024</td>\n",
       "      <td>0</td>\n",
       "      <td>45</td>\n",
       "      <td>0</td>\n",
       "      <td>0</td>\n",
       "      <td>0</td>\n",
       "      <td>0</td>\n",
       "      <td>...</td>\n",
       "      <td>0</td>\n",
       "      <td>0</td>\n",
       "      <td>0</td>\n",
       "      <td>0</td>\n",
       "      <td>0</td>\n",
       "      <td>0</td>\n",
       "      <td>0</td>\n",
       "      <td>0</td>\n",
       "      <td>0</td>\n",
       "      <td>1</td>\n",
       "    </tr>\n",
       "    <tr>\n",
       "      <th>16277</th>\n",
       "      <td>27</td>\n",
       "      <td>104457</td>\n",
       "      <td>13</td>\n",
       "      <td>0</td>\n",
       "      <td>0</td>\n",
       "      <td>40</td>\n",
       "      <td>0</td>\n",
       "      <td>0</td>\n",
       "      <td>0</td>\n",
       "      <td>0</td>\n",
       "      <td>...</td>\n",
       "      <td>1</td>\n",
       "      <td>0</td>\n",
       "      <td>0</td>\n",
       "      <td>0</td>\n",
       "      <td>0</td>\n",
       "      <td>0</td>\n",
       "      <td>1</td>\n",
       "      <td>0</td>\n",
       "      <td>0</td>\n",
       "      <td>0</td>\n",
       "    </tr>\n",
       "    <tr>\n",
       "      <th>16278</th>\n",
       "      <td>59</td>\n",
       "      <td>268700</td>\n",
       "      <td>9</td>\n",
       "      <td>0</td>\n",
       "      <td>0</td>\n",
       "      <td>40</td>\n",
       "      <td>0</td>\n",
       "      <td>0</td>\n",
       "      <td>0</td>\n",
       "      <td>0</td>\n",
       "      <td>...</td>\n",
       "      <td>0</td>\n",
       "      <td>0</td>\n",
       "      <td>0</td>\n",
       "      <td>0</td>\n",
       "      <td>0</td>\n",
       "      <td>0</td>\n",
       "      <td>0</td>\n",
       "      <td>0</td>\n",
       "      <td>0</td>\n",
       "      <td>1</td>\n",
       "    </tr>\n",
       "    <tr>\n",
       "      <th>16279</th>\n",
       "      <td>33</td>\n",
       "      <td>59083</td>\n",
       "      <td>13</td>\n",
       "      <td>0</td>\n",
       "      <td>1902</td>\n",
       "      <td>45</td>\n",
       "      <td>0</td>\n",
       "      <td>0</td>\n",
       "      <td>0</td>\n",
       "      <td>0</td>\n",
       "      <td>...</td>\n",
       "      <td>0</td>\n",
       "      <td>0</td>\n",
       "      <td>0</td>\n",
       "      <td>0</td>\n",
       "      <td>0</td>\n",
       "      <td>0</td>\n",
       "      <td>0</td>\n",
       "      <td>0</td>\n",
       "      <td>0</td>\n",
       "      <td>1</td>\n",
       "    </tr>\n",
       "  </tbody>\n",
       "</table>\n",
       "<p>16280 rows × 42 columns</p>\n",
       "</div>"
      ],
      "text/plain": [
       "       age  fnlwgt  education-num  capital-gain  capital-loss  hours-per-week  \\\n",
       "0       34  284843              9           594             0              60   \n",
       "1       40  190290             10             0             0              40   \n",
       "2       36  177858             13             0             0              40   \n",
       "3       22  184756             10             0             0              30   \n",
       "4       47  149700             13         15024             0              40   \n",
       "...    ...     ...            ...           ...           ...             ...   \n",
       "16275   25  514716             13             0             0              40   \n",
       "16276   32  207668             13         15024             0              45   \n",
       "16277   27  104457             13             0             0              40   \n",
       "16278   59  268700              9             0             0              40   \n",
       "16279   33   59083             13             0          1902              45   \n",
       "\n",
       "       education_10th  education_11th  education_12th  education_1st-4th  ...  \\\n",
       "0                   0               0               0                  0  ...   \n",
       "1                   0               0               0                  0  ...   \n",
       "2                   0               0               0                  0  ...   \n",
       "3                   0               0               0                  0  ...   \n",
       "4                   0               0               0                  0  ...   \n",
       "...               ...             ...             ...                ...  ...   \n",
       "16275               0               0               0                  0  ...   \n",
       "16276               0               0               0                  0  ...   \n",
       "16277               0               0               0                  0  ...   \n",
       "16278               0               0               0                  0  ...   \n",
       "16279               0               0               0                  0  ...   \n",
       "\n",
       "       relationship_Not-in-family  relationship_Other-relative  \\\n",
       "0                               1                            0   \n",
       "1                               1                            0   \n",
       "2                               0                            0   \n",
       "3                               0                            0   \n",
       "4                               0                            0   \n",
       "...                           ...                          ...   \n",
       "16275                           0                            0   \n",
       "16276                           0                            0   \n",
       "16277                           1                            0   \n",
       "16278                           0                            0   \n",
       "16279                           0                            0   \n",
       "\n",
       "       relationship_Own-child  relationship_Unmarried  relationship_Wife  \\\n",
       "0                           0                       0                  0   \n",
       "1                           0                       0                  0   \n",
       "2                           1                       0                  0   \n",
       "3                           1                       0                  0   \n",
       "4                           0                       0                  0   \n",
       "...                       ...                     ...                ...   \n",
       "16275                       1                       0                  0   \n",
       "16276                       0                       0                  0   \n",
       "16277                       0                       0                  0   \n",
       "16278                       0                       0                  0   \n",
       "16279                       0                       0                  0   \n",
       "\n",
       "       race_Amer-Indian-Eskimo  race_Asian-Pac-Islander  race_Black  \\\n",
       "0                            0                        0           1   \n",
       "1                            0                        0           0   \n",
       "2                            0                        0           0   \n",
       "3                            0                        0           0   \n",
       "4                            0                        0           0   \n",
       "...                        ...                      ...         ...   \n",
       "16275                        0                        0           1   \n",
       "16276                        0                        0           0   \n",
       "16277                        0                        1           0   \n",
       "16278                        0                        0           0   \n",
       "16279                        0                        0           0   \n",
       "\n",
       "       race_Other  race_White  \n",
       "0               0           0  \n",
       "1               0           1  \n",
       "2               0           1  \n",
       "3               0           1  \n",
       "4               0           1  \n",
       "...           ...         ...  \n",
       "16275           0           0  \n",
       "16276           0           1  \n",
       "16277           0           0  \n",
       "16278           0           1  \n",
       "16279           0           1  \n",
       "\n",
       "[16280 rows x 42 columns]"
      ]
     },
     "execution_count": 48,
     "metadata": {},
     "output_type": "execute_result"
    }
   ],
   "source": [
    "df_with_dummies = pd.get_dummies(data=df_clean, columns=['education',\n",
    "                                                         'marital-status',\n",
    "                                                         'sex',\n",
    "                                                        'relationship',\n",
    "                                                        'race']).drop('>50K,<=50K', axis=1)\n",
    "\n",
    "df_with_dummies"
   ]
  },
  {
   "cell_type": "markdown",
   "metadata": {},
   "source": [
    "**Задание 10 (0.5 балла)** Добавьте к масштабированным вещественным признакам закодированные категориальные и обучите алгоритмы с наилучшими гиперпараметрами из предыдущего пункта. Дало ли добавление новых признаков прирост качества? Измеряйте качество как и раньше используя 5-Fold CV. Для этого удобно воспользоваться функцией [cross_val_score](https://scikit-learn.org/stable/modules/generated/sklearn.model_selection.cross_val_score.html)."
   ]
  },
  {
   "cell_type": "code",
   "execution_count": null,
   "metadata": {
    "collapsed": true,
    "jupyter": {
     "outputs_hidden": true
    }
   },
   "outputs": [],
   "source": [
    "#your code here"
   ]
  },
  {
   "cell_type": "markdown",
   "metadata": {},
   "source": [
    "Отличается ли теперь наилучший классификатор от наилучшего в предыдущем пункте?"
   ]
  },
  {
   "cell_type": "markdown",
   "metadata": {},
   "source": [
    "## Поиск новых полезных признаков\n",
    "\n",
    "**Задание 11 (1.25 балла).** Попробуем улучшить качество модели, добавив в неё новые информативные признаки. Поступим так же, как действовали на [семинаре](https://github.com/Murcha1990/ML_Econom_2021-2022/blob/main/Семинары/Семинар%207/Seminar7.ipynb):\n",
    "* добавьте к модели полиномиальных признаков степени 2 (для создания полиномиальных признаков используйте только исходные числовые признаки)\n",
    "* затем снизьте размерность с помощью:\n",
    "a) фильтрационных методов\n",
    "b) жадного отбора признаков (RFE)\n",
    "с) встроенного в модель метода отбора признаков.\n",
    "\n",
    "Для каждого пункта выше выберите один метод и подберите для него оптимальные гиперпараметры, а также количество финальных признаков (по кросс-валидации).\n",
    "\n",
    "* Затем можно добавить к модели закодированные в предыдущем пункте категориальные признаки.\n",
    "\n",
    "Позволил ли этот подход улучшить качество моделей? "
   ]
  },
  {
   "cell_type": "code",
   "execution_count": null,
   "metadata": {},
   "outputs": [],
   "source": [
    "#your code here"
   ]
  },
  {
   "cell_type": "markdown",
   "metadata": {},
   "source": [
    "## Смешивание моделей\n",
    "\n",
    "Во всех предыдущих пунктах мы получили много сильных моделей, которые могут быть достаточно разными по своей природе (например, метод ближайших соседей и случайный лес). Часто на практике оказывается возможным увеличить качество предсказания путем смешивания подобных разных моделей. Давайте посмотрим, действительно ли это дает прирост в качестве.\n",
    "\n",
    "Выберите из построенных моделей двух предыдущих пунктов две, которые дали наибольшее начество на кросс-валидации (обозначим их $clf_1$ и $clf_2$). Далее постройте новый классификатор, ответ которого на некотором объекте $x$ будет выглядеть следующим образом:\n",
    "\n",
    "$$result(x) = clf_1(x) \\cdot \\alpha + clf_2(x) \\cdot (1 - \\alpha)$$\n",
    "\n",
    "где $\\alpha$ — гиперпараметр нового классификатора.\n",
    "\n",
    "**Задание 12 (1 балл)** Подберите по сетке от 0 до 1 $\\alpha$ для этого классификатора с помощью 5-Fold CV и постройте график качества в зависимости от $\\alpha$ (аналогичный графику в разделе \"Обучение классификаторов и оценка качества\"). Дал ли этот подход прирост к качеству по сравнению с моделями ранее?"
   ]
  },
  {
   "cell_type": "code",
   "execution_count": null,
   "metadata": {
    "collapsed": true,
    "jupyter": {
     "outputs_hidden": true
    }
   },
   "outputs": [],
   "source": [
    "#your code here"
   ]
  },
  {
   "cell_type": "markdown",
   "metadata": {},
   "source": [
    "## Сравнение построенных моделей\n",
    "\n",
    "![](http://cdn.shopify.com/s/files/1/0870/1066/files/compare_e8b89647-3cb6-4871-a976-2e36e5987773.png?1750043340268621065)\n",
    "\n",
    "После того как было построено много моделей хотелось бы сравнить их между собой. Для этого можно построить \"ящик с усами\" (диаграму размаха). Для этого можно воспользоваться библиотекой [matplotlib](https://matplotlib.org/3.1.0/api/_as_gen/matplotlib.pyplot.boxplot.html) или [seaborn](https://seaborn.pydata.org/generated/seaborn.boxplot.html).\n",
    "\n",
    "**Задание 13 (1 балл)** Для каждого типа классификатора (kNN, DecisionTree, RandomForest, SGD classifier), а так же смешанной модели выберите тот, которых давал наилучшее качество на кросс-валидации (с учетом подобранных гиперпараметров) и постройте диаграмму размаха (все классификаторы должны быть изображены на одном графике).\n",
    " \n",
    "Сделайте общие итоговые выводы о классификаторах с точки зрения их работы с признаками и сложности самой модели (какие гиперпараметры есть у модели, сильно ли изменение значения гиперпараметра влияет на качество модели)."
   ]
  },
  {
   "cell_type": "code",
   "execution_count": null,
   "metadata": {
    "collapsed": true,
    "jupyter": {
     "outputs_hidden": true
    }
   },
   "outputs": [],
   "source": [
    "#your code here"
   ]
  }
 ],
 "metadata": {
  "kernelspec": {
   "display_name": "Python 3 (ipykernel)",
   "language": "python",
   "name": "python3"
  },
  "language_info": {
   "codemirror_mode": {
    "name": "ipython",
    "version": 3
   },
   "file_extension": ".py",
   "mimetype": "text/x-python",
   "name": "python",
   "nbconvert_exporter": "python",
   "pygments_lexer": "ipython3",
   "version": "3.12.0"
  }
 },
 "nbformat": 4,
 "nbformat_minor": 4
}
