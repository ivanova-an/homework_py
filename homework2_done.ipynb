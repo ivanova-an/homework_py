{
 "cells": [
  {
   "cell_type": "markdown",
   "metadata": {},
   "source": [
    "# Домашнее задание №2\n",
    "\n",
    "**"
   ]
  },
  {
   "cell_type": "markdown",
   "metadata": {},
   "source": [
    "## Часть 1. ML workflow (**всего 5 баллов**)"
   ]
  },
  {
   "cell_type": "code",
   "execution_count": 4,
   "metadata": {
    "ExecuteTime": {
     "end_time": "2023-12-19T08:44:27.828474600Z",
     "start_time": "2023-12-19T08:44:21.697619500Z"
    }
   },
   "outputs": [],
   "source": [
    "from itertools import product\n",
    "\n",
    "import numpy as np\n",
    "import pandas as pd\n",
    "from sklearn.linear_model import LinearRegression\n",
    "from sklearn.metrics import mean_squared_error, r2_score\n",
    "from sklearn.model_selection import train_test_split\n",
    "from sklearn.pipeline import Pipeline\n",
    "from sklearn.preprocessing import PolynomialFeatures"
   ]
  },
  {
   "cell_type": "markdown",
   "metadata": {},
   "source": [
    "### Загрузим данные для работы. "
   ]
  },
  {
   "cell_type": "code",
   "execution_count": 5,
   "metadata": {
    "ExecuteTime": {
     "end_time": "2023-12-19T08:44:33.030361600Z",
     "start_time": "2023-12-19T08:44:32.926036800Z"
    }
   },
   "outputs": [
    {
     "data": {
      "text/plain": "   fixed acidity  volatile acidity  citric acid  residual sugar  chlorides  \\\n0            7.4              0.70         0.00             1.9      0.076   \n1            7.8              0.88         0.00             2.6      0.098   \n2            7.8              0.76         0.04             2.3      0.092   \n3           11.2              0.28         0.56             1.9      0.075   \n4            7.4              0.70         0.00             1.9      0.076   \n\n   free sulfur dioxide  total sulfur dioxide  density    pH  sulphates  \\\n0                 11.0                  34.0   0.9978  3.51       0.56   \n1                 25.0                  67.0   0.9968  3.20       0.68   \n2                 15.0                  54.0   0.9970  3.26       0.65   \n3                 17.0                  60.0   0.9980  3.16       0.58   \n4                 11.0                  34.0   0.9978  3.51       0.56   \n\n   alcohol  quality  \n0      9.4        5  \n1      9.8        5  \n2      9.8        5  \n3      9.8        6  \n4      9.4        5  ",
      "text/html": "<div>\n<style scoped>\n    .dataframe tbody tr th:only-of-type {\n        vertical-align: middle;\n    }\n\n    .dataframe tbody tr th {\n        vertical-align: top;\n    }\n\n    .dataframe thead th {\n        text-align: right;\n    }\n</style>\n<table border=\"1\" class=\"dataframe\">\n  <thead>\n    <tr style=\"text-align: right;\">\n      <th></th>\n      <th>fixed acidity</th>\n      <th>volatile acidity</th>\n      <th>citric acid</th>\n      <th>residual sugar</th>\n      <th>chlorides</th>\n      <th>free sulfur dioxide</th>\n      <th>total sulfur dioxide</th>\n      <th>density</th>\n      <th>pH</th>\n      <th>sulphates</th>\n      <th>alcohol</th>\n      <th>quality</th>\n    </tr>\n  </thead>\n  <tbody>\n    <tr>\n      <th>0</th>\n      <td>7.4</td>\n      <td>0.70</td>\n      <td>0.00</td>\n      <td>1.9</td>\n      <td>0.076</td>\n      <td>11.0</td>\n      <td>34.0</td>\n      <td>0.9978</td>\n      <td>3.51</td>\n      <td>0.56</td>\n      <td>9.4</td>\n      <td>5</td>\n    </tr>\n    <tr>\n      <th>1</th>\n      <td>7.8</td>\n      <td>0.88</td>\n      <td>0.00</td>\n      <td>2.6</td>\n      <td>0.098</td>\n      <td>25.0</td>\n      <td>67.0</td>\n      <td>0.9968</td>\n      <td>3.20</td>\n      <td>0.68</td>\n      <td>9.8</td>\n      <td>5</td>\n    </tr>\n    <tr>\n      <th>2</th>\n      <td>7.8</td>\n      <td>0.76</td>\n      <td>0.04</td>\n      <td>2.3</td>\n      <td>0.092</td>\n      <td>15.0</td>\n      <td>54.0</td>\n      <td>0.9970</td>\n      <td>3.26</td>\n      <td>0.65</td>\n      <td>9.8</td>\n      <td>5</td>\n    </tr>\n    <tr>\n      <th>3</th>\n      <td>11.2</td>\n      <td>0.28</td>\n      <td>0.56</td>\n      <td>1.9</td>\n      <td>0.075</td>\n      <td>17.0</td>\n      <td>60.0</td>\n      <td>0.9980</td>\n      <td>3.16</td>\n      <td>0.58</td>\n      <td>9.8</td>\n      <td>6</td>\n    </tr>\n    <tr>\n      <th>4</th>\n      <td>7.4</td>\n      <td>0.70</td>\n      <td>0.00</td>\n      <td>1.9</td>\n      <td>0.076</td>\n      <td>11.0</td>\n      <td>34.0</td>\n      <td>0.9978</td>\n      <td>3.51</td>\n      <td>0.56</td>\n      <td>9.4</td>\n      <td>5</td>\n    </tr>\n  </tbody>\n</table>\n</div>"
     },
     "execution_count": 5,
     "metadata": {},
     "output_type": "execute_result"
    }
   ],
   "source": [
    "df = pd.read_csv(\"winequality-red.csv\")\n",
    "df.head()"
   ]
  },
  {
   "cell_type": "markdown",
   "metadata": {},
   "source": [
    "Будем решать задачу регрессии: необходимо предсказать качество вина на основе его характеристик\n",
    "\n",
    "### Шаг 1.  (**0.2 балла**)\n",
    "Создайте матрицу X объект-признак и целевой вектор y (\"quality\")"
   ]
  },
  {
   "cell_type": "code",
   "execution_count": 6,
   "metadata": {
    "ExecuteTime": {
     "end_time": "2023-12-19T08:44:35.370691600Z",
     "start_time": "2023-12-19T08:44:35.359693500Z"
    }
   },
   "outputs": [],
   "source": [
    "df = pd.read_csv(\"winequality-red.csv\")\n",
    "X = df.drop(\"quality\", axis=1)\n",
    "y = df[\"quality\"]"
   ]
  },
  {
   "cell_type": "markdown",
   "metadata": {},
   "source": [
    "### Шаг 2. (**0.2 балла**)\n",
    "Разбейте данные на train и test (доля тестовых данных - 30%)."
   ]
  },
  {
   "cell_type": "code",
   "execution_count": 7,
   "metadata": {
    "ExecuteTime": {
     "end_time": "2023-12-19T08:44:37.156379700Z",
     "start_time": "2023-12-19T08:44:37.142039700Z"
    }
   },
   "outputs": [
    {
     "name": "stdout",
     "output_type": "stream",
     "text": [
      "Размеры тренировочного набора X: (1119, 11)\n",
      "Размеры тестового набора X: (480, 11)\n",
      "Размеры тренировочного набора y: (1119,)\n",
      "Размеры тестового набора y: (480,)\n"
     ]
    }
   ],
   "source": [
    "# Разбиваем данные на тренировочный и тестовый наборы (70% тренировочные, 30% тестовые)\n",
    "#Тренировочный набор используется для обучения модели, а тестовый набор - для проверки ее производительности на данных, которые не участвовали в обучении. \n",
    "X_train, X_test, y_train, y_test = train_test_split(X, y, test_size=0.3)\n",
    "\n",
    "# Выводим размеры тренировочного и тестового наборов для проверки\n",
    "print(\"Размеры тренировочного набора X:\", X_train.shape)\n",
    "print(\"Размеры тестового набора X:\", X_test.shape)\n",
    "print(\"Размеры тренировочного набора y:\", y_train.shape)\n",
    "print(\"Размеры тестового набора y:\", y_test.shape)"
   ]
  },
  {
   "cell_type": "markdown",
   "metadata": {},
   "source": [
    "### Шаг 3. (**0.2 балла**)\n",
    "Обучите линейную регрессию на тренировочных данных и сделайте предсказания на train и на test."
   ]
  },
  {
   "cell_type": "code",
   "execution_count": 11,
   "metadata": {
    "ExecuteTime": {
     "end_time": "2023-12-19T08:52:04.947676400Z",
     "start_time": "2023-12-19T08:52:04.823670300Z"
    }
   },
   "outputs": [
    {
     "name": "stdout",
     "output_type": "stream",
     "text": [
      "[5.59924083 5.57730489 6.01398519 ... 5.25963908 6.16060706 5.724496  ]\n",
      "[5.10865212 5.83158056 5.11147048 5.66221894 5.37746305 5.74139939\n",
      " 5.39827706 5.2854802  5.37003622 5.97061882 6.85714303 5.73610898\n",
      " 5.75989903 5.50031755 5.08138205 5.78553698 5.43322672 5.76811956\n",
      " 5.45757127 5.7416755  5.71096104 5.80653868 5.79246369 5.82014299\n",
      " 5.48555109 5.45158578 5.7523528  5.3643467  5.25937917 5.71532135\n",
      " 4.47588707 5.06308658 4.95352016 6.11953082 6.21416333 6.12044953\n",
      " 5.18967232 5.45368967 5.99273822 5.31673664 5.34678673 5.52898059\n",
      " 5.46391841 5.37985    5.07075446 5.49803756 6.06863359 5.57241633\n",
      " 5.83071929 5.90553294 6.07435837 5.52525858 5.06975424 6.14971749\n",
      " 5.50475964 5.38346661 4.99711124 5.90790844 5.84244129 6.62348417\n",
      " 6.19679714 5.72035838 5.9966866  5.03905345 5.50240045 5.93586\n",
      " 4.94183557 5.70870407 6.1367826  5.3412528  5.38994071 6.01967253\n",
      " 5.25748195 6.4705915  6.34526412 5.5418853  5.23142851 5.03396673\n",
      " 6.17870712 6.3015009  5.56616441 6.61853233 4.92009022 5.93624678\n",
      " 6.47912543 5.14319562 5.83068569 6.5956603  4.91626952 6.36060901\n",
      " 6.35437769 5.90618008 5.07114668 5.38290675 5.3078257  5.67877451\n",
      " 5.44371925 6.0980119  6.04383446 6.28962819 5.68205715 5.45757127\n",
      " 5.67822784 5.55602656 5.30911195 5.73436116 6.45203602 6.02879794\n",
      " 6.36049758 6.61426683 5.15737592 4.97410657 5.39940359 5.03296855\n",
      " 5.59025003 5.74680063 5.73943764 5.22184354 5.76443225 6.55535352\n",
      " 4.90975873 5.48725453 5.93017099 5.01600462 5.25220469 6.41656378\n",
      " 5.2497562  6.06436151 5.37628254 5.32493238 5.74208004 5.0197081\n",
      " 6.59294676 5.16168435 6.11905864 6.00957164 5.40537102 5.46236789\n",
      " 5.27088535 6.39854652 6.03159701 5.87166771 6.2091343  5.87540184\n",
      " 6.24961102 5.88210281 6.17209838 5.86376452 5.29551017 5.82108741\n",
      " 5.12003377 5.6584951  5.43565492 5.23167446 5.55510248 5.82108741\n",
      " 4.96506722 6.21891435 6.04102558 5.63198899 5.31287838 6.04411131\n",
      " 4.88960041 5.87784007 5.58446893 6.33262397 6.22799445 5.74381271\n",
      " 5.63681121 6.18937878 5.03754579 5.17912145 5.4695631  5.91720275\n",
      " 6.14927128 5.52507608 5.17318332 5.1031434  6.59846293 5.01254151\n",
      " 5.00573369 5.80080338 6.58354765 6.11064195 5.95006784 5.96219423\n",
      " 6.0546671  5.18633347 5.27849539 5.13947083 5.98095047 6.72701532\n",
      " 5.68096428 5.46649531 5.60119556 5.51055067 6.46459411 5.57991453\n",
      " 5.31316974 5.49584308 5.67334358 5.50682276 5.2101704  5.9183026\n",
      " 4.53816435 6.10719747 4.92962135 5.51421628 5.45626444 6.26574206\n",
      " 5.95006784 6.445351   5.42924266 5.63815742 5.34332152 5.46731745\n",
      " 5.15079363 6.02828518 6.49202579 5.59716422 6.51078801 5.62545603\n",
      " 5.06484021 4.90852477 5.6006591  5.9245307  5.82152285 5.78789128\n",
      " 6.00170515 5.71003402 6.33976948 5.31595867 5.99879082 6.56036369\n",
      " 6.33888187 6.47510051 5.35880325 5.93099733 6.23268757 5.40794283\n",
      " 5.53363098 6.7482302  5.83163919 5.35726799 5.90814208 6.35719298\n",
      " 5.62097834 5.97886264 5.27679671 5.14806157 5.69027804 6.32989935\n",
      " 6.17275833 5.79788307 5.67406107 5.05834461 5.49048944 5.73943764\n",
      " 6.1872972  4.96941839 5.12905813 6.67239445 5.05999706 5.39079666\n",
      " 5.82388143 5.63664734 5.13075069 4.93063756 5.53046225 5.25654257\n",
      " 5.01634342 5.3737273  5.24621152 5.10305492 5.64415652 6.34840883\n",
      " 5.24723617 6.18334366 6.26110802 4.99279826 4.79316667 5.24147045\n",
      " 6.93725774 5.14836933 5.32408985 5.52436236 5.45217355 6.02218086\n",
      " 6.95723879 5.09761093 6.43411911 5.74186515 6.47692011 6.23300052\n",
      " 5.56611114 5.61873892 5.24672548 4.87762133 5.74977094 5.93635949\n",
      " 6.6181915  6.59082159 5.88966542 5.46073951 4.81424146 6.66339181\n",
      " 6.6180021  5.78090387 5.32733101 5.410176   5.61279953 5.82197288\n",
      " 5.30283234 5.26895557 5.51646493 5.14806157 5.35799064 5.37985\n",
      " 5.9419863  5.70426614 5.23621448 6.19188614 5.29618469 5.44051236\n",
      " 5.17481954 5.27961481 5.14843478 6.14355255 6.08896834 5.58528\n",
      " 5.66014822 5.19089868 6.47799147 5.57662392 5.39363062 5.03610608\n",
      " 6.05116104 6.3718711  5.84805081 5.26321784 5.30850023 6.11127747\n",
      " 5.47222784 5.82014299 5.68096428 6.11310557 5.73939167 6.4860204\n",
      " 6.38628452 5.54231362 5.4329637  5.03582065 5.93099733 5.74139939\n",
      " 6.20917595 5.85367946 6.4868357  5.68205715 6.17908215 5.2363752\n",
      " 5.79282441 5.03673765 5.1612461  5.50958585 5.49113977 5.88642648\n",
      " 5.365006   5.1893426  5.52894072 5.11156168 6.16930707 6.23188081\n",
      " 5.75624944 5.35589297 5.2958234  4.92476554 5.56611114 5.83349371\n",
      " 5.07745874 5.35880325 6.47053277 5.63350248 5.63681121 5.35915708\n",
      " 5.56465051 5.34332152 6.43323832 5.58218306 5.77374825 4.90992655\n",
      " 6.33230475 5.44202274 4.80228282 5.10512679 5.20180225 6.8124682\n",
      " 5.40347261 5.92092149 5.63815742 6.79895866 4.83848684 5.14970354\n",
      " 6.01984108 5.34391278 5.74186515 5.04237539 6.06491204 6.22086089\n",
      " 4.94294119 4.49758138 6.10873874 5.31556918 5.55002397 5.91718489\n",
      " 5.31287838 6.1132028  5.03057685 6.45488239 5.72319723 5.93586\n",
      " 5.68196636 6.09045855 5.50424399 4.8507046  5.47661845 5.52336408\n",
      " 6.09000445 5.39716505 5.20828601 5.13562438 5.76539127 5.02062656\n",
      " 6.14355255 5.79698082 5.13690116 5.01600462 6.26574206 5.08138205\n",
      " 5.07693371 4.91658359 5.54638525 5.1102721  5.2363752  6.05946216\n",
      " 5.72942922 5.0524594  5.99496592 5.29025409 4.92682018 6.38514901\n",
      " 5.56065915 6.39112073 5.14743662 6.07343926 6.13673828 5.21552999\n",
      " 5.03114988 5.97027743 4.86212075 5.46173324 5.0350359  4.95454851\n",
      " 5.21333841 6.32266459 4.70813657 6.10058217 5.99563822 5.17096441\n",
      " 6.47698522 5.76529796 5.24290787 5.8557845  6.29046599 4.77533101\n",
      " 5.90790844 5.10278086 5.84366866 6.01078562 5.02582409 6.56383825]\n"
     ]
    }
   ],
   "source": [
    "\n",
    "# Создаем модель линейной регрессии\n",
    "model = LinearRegression()\n",
    "\n",
    "# Обучаем модель на тренировочных данных\n",
    "model.fit(X_train, y_train)\n",
    "\n",
    "# Получаем прогнозы для тренировочного и тестового наборов\n",
    "y_train_pred = model.predict(X_train)\n",
    "y_test_pred = model.predict(X_test)\n",
    "\n",
    "# Выводим результаты\n",
    "print(y_train_pred)\n",
    "print(y_test_pred)\n"
   ]
  },
  {
   "cell_type": "markdown",
   "metadata": {},
   "source": [
    "### Шаг 4. (**0.4 балла**)\n",
    "Выведите на экран ошибку MSE на train и на test, затем выведите на экран ошибку r2 на train и test.  "
   ]
  },
  {
   "cell_type": "code",
   "execution_count": 12,
   "metadata": {
    "ExecuteTime": {
     "end_time": "2023-12-19T08:52:42.325208800Z",
     "start_time": "2023-12-19T08:52:42.309818400Z"
    }
   },
   "outputs": [
    {
     "name": "stdout",
     "output_type": "stream",
     "text": [
      "Ошибка MSE на тренировочных данных: 0.441707695558237\n",
      "Ошибка MSE на тестовых данных: 0.3612372261656669\n",
      "\n",
      "Коэффициент детерминации R-squared на тренировочных данных: 0.34006310774459947\n",
      "Коэффициент детерминации R-squared на тестовых данных: 0.40861152585661253\n"
     ]
    }
   ],
   "source": [
    "# Создаем модель линейной регрессии\n",
    "model = LinearRegression()\n",
    "\n",
    "# Обучаем модель на тренировочных данных\n",
    "model.fit(X_train, y_train)\n",
    "\n",
    "# Получаем прогнозы для тренировочного и тестового наборов\n",
    "y_train_pred = model.predict(X_train)\n",
    "y_test_pred = model.predict(X_test)\n",
    "\n",
    "# Вычисляем ошибку MSE на тренировочных и тестовых данных\n",
    "mse_train = mean_squared_error(y_train, y_train_pred)\n",
    "mse_test = mean_squared_error(y_test, y_test_pred)\n",
    "\n",
    "# Вычисляем коэффициент детерминации R-squared на тренировочных и тестовых данных\n",
    "r2_train = r2_score(y_train, y_train_pred)\n",
    "r2_test = r2_score(y_test, y_test_pred)\n",
    "\n",
    "# Выводим результаты\n",
    "print(\"Ошибка MSE на тренировочных данных:\", mse_train)\n",
    "print(\"Ошибка MSE на тестовых данных:\", mse_test)\n",
    "print(\"\\nКоэффициент детерминации R-squared на тренировочных данных:\", r2_train)\n",
    "print(\"Коэффициент детерминации R-squared на тестовых данных:\", r2_test)\n"
   ]
  },
  {
   "cell_type": "markdown",
   "metadata": {},
   "source": [
    "### Шаг 5. (**0.5 балла**)\n",
    "Вычислите среднее качество (r2) модели на кросс-валидации с k=5 фолдами."
   ]
  },
  {
   "cell_type": "code",
   "execution_count": 16,
   "metadata": {
    "ExecuteTime": {
     "end_time": "2023-12-19T09:53:40.962475800Z",
     "start_time": "2023-12-19T09:53:40.901563500Z"
    }
   },
   "outputs": [
    {
     "name": "stdout",
     "output_type": "stream",
     "text": [
      "Среднее качество (R-squared) на кросс-валидации (k=5): 0.290041628842196\n"
     ]
    }
   ],
   "source": [
    "from sklearn.model_selection import cross_val_score\n",
    "\n",
    "# Создаем модель линейной регрессии\n",
    "model = LinearRegression()\n",
    "\n",
    "# Вычисляем среднее качество на кросс-валидации с k=5 фолдами\n",
    "cross_val_r2 = cross_val_score(model, X, y, scoring='r2', cv=5).mean()\n",
    "\n",
    "# Выводим результат\n",
    "print(\"Среднее качество (R-squared) на кросс-валидации (k=5):\", cross_val_r2)"
   ]
  },
  {
   "cell_type": "markdown",
   "metadata": {},
   "source": [
    "### Шаг 6.  (**0.5 балла**)\n",
    "Теперь примените линейную регрессию с L1-регуляризацией (Lasso) для данной задачи. Объявите модель и подберите параметр регуляризации alpha по сетке. Ищите alpha в диапазоне (0.1, 1.1) с шагом 0.1. \n",
    "\n",
    "Осуществите подбор параметра alpha по тренировочным данным (Xtrain, ytrain)."
   ]
  },
  {
   "cell_type": "code",
   "execution_count": 17,
   "metadata": {
    "ExecuteTime": {
     "end_time": "2023-12-19T10:20:37.759844300Z",
     "start_time": "2023-12-19T10:20:37.730156700Z"
    }
   },
   "outputs": [
    {
     "name": "stdout",
     "output_type": "stream",
     "text": [
      "Оптимальное значение alpha: 0.1\n"
     ]
    }
   ],
   "source": [
    "from sklearn.linear_model import LassoCV\n",
    "\n",
    "# Создаем модель Lasso с кросс-валидацией для подбора параметра alpha\n",
    "lasso_model = LassoCV(alphas=np.arange(0.1, 1.2, 0.1), cv=5)\n",
    "\n",
    "# Обучаем модель на тренировочных данных\n",
    "lasso_model.fit(X_train, y_train)\n",
    "\n",
    "# Выводим оптимальное значение alpha\n",
    "print(\"Оптимальное значение alpha:\", lasso_model.alpha_)"
   ]
  },
  {
   "cell_type": "markdown",
   "metadata": {},
   "source": [
    "### Шаг 7.  (**0.5 балла**)\n",
    "Выведите наилучший алгоритм и наилучшее качество по результатам подбора alpha (best_estimator_ и best_score_)."
   ]
  },
  {
   "cell_type": "code",
   "execution_count": 18,
   "metadata": {
    "ExecuteTime": {
     "end_time": "2023-12-19T10:21:04.279270200Z",
     "start_time": "2023-12-19T10:21:04.239693400Z"
    }
   },
   "outputs": [
    {
     "name": "stdout",
     "output_type": "stream",
     "text": [
      "Наилучшее значение alpha (best_estimator_): 0.1\n",
      "Наилучшее качество на тестовых данных: 0.2534284056924463\n"
     ]
    }
   ],
   "source": [
    "\n",
    "# Выводим наилучшую альфу и соответствующее ей качество на тестовых данных\n",
    "best_estimator_ = lasso_model.alpha_\n",
    "best_score_ = lasso_model.score(X_test, y_test)\n",
    "\n",
    "# Выводим результаты\n",
    "print(\"Наилучшее значение alpha (best_estimator_):\", best_estimator_)\n",
    "print(\"Наилучшее качество на тестовых данных:\", best_score_)\n"
   ]
  },
  {
   "cell_type": "markdown",
   "metadata": {},
   "source": [
    "### Шаг 8.  (**0.5 балла**)\n",
    "\n",
    "С помощью найденного best_estimator_ сделайте предсказание на тестовых данных и выведите на экран r2-score на тесте."
   ]
  },
  {
   "cell_type": "code",
   "execution_count": 19,
   "metadata": {
    "ExecuteTime": {
     "end_time": "2023-12-19T10:25:15.350785600Z",
     "start_time": "2023-12-19T10:25:15.326169300Z"
    }
   },
   "outputs": [
    {
     "name": "stdout",
     "output_type": "stream",
     "text": [
      "R-squared на тестовых данных с использованием наилучшего alpha: 0.2534284056924463\n"
     ]
    }
   ],
   "source": [
    "from sklearn.linear_model import Lasso\n",
    "\n",
    "# Используем найденное оптимальное значение alpha\n",
    "best_estimator_ = 0.1\n",
    "\n",
    "# Создаем модель Lasso с использованием найденного alpha\n",
    "best_lasso_model = Lasso(alpha=best_estimator_)\n",
    "\n",
    "# Обучаем модель на тренировочных данных\n",
    "best_lasso_model.fit(X_train, y_train)\n",
    "\n",
    "# Делаем предсказание на тестовых данных\n",
    "y_test_pred = best_lasso_model.predict(X_test)\n",
    "\n",
    "# Вычисляем R-squared на тестовых данных\n",
    "r2_test = r2_score(y_test, y_test_pred)\n",
    "\n",
    "# Выводим результат\n",
    "print(\"R-squared на тестовых данных с использованием наилучшего alpha:\", r2_test)\n",
    "\n"
   ]
  },
  {
   "cell_type": "markdown",
   "metadata": {},
   "source": [
    "### Шаг 9.  (**0.5 балла**)\n",
    "\n",
    "Попробуем улучшить качество модели за счет добавления полиномиальных признаков. Создайте pipeline, состоящий из добавления полиномиальных признаков степени 2, а затем применения линейной регрессии.\n",
    "\n",
    "Затем вычислите r2-score этой модели на кросс валидации с пятью фолдами."
   ]
  },
  {
   "cell_type": "code",
   "execution_count": 24,
   "metadata": {
    "ExecuteTime": {
     "end_time": "2023-12-16T14:58:44.243976400Z",
     "start_time": "2023-12-16T14:58:44.156833Z"
    }
   },
   "outputs": [
    {
     "name": "stdout",
     "output_type": "stream",
     "text": [
      "R-squared на кросс-валидации (с добавлением полиномиальных признаков): 0.23009616816832504\n"
     ]
    }
   ],
   "source": [
    "# Создаем пайплайн\n",
    "poly_reg_pipeline = Pipeline([\n",
    "    ('poly_features', PolynomialFeatures(degree=2)),\n",
    "    ('linear_regression', LinearRegression())\n",
    "])\n",
    "\n",
    "# Вычисляем r2-score на кросс-валидации с пятью фолдами\n",
    "cross_val_r2 = cross_val_score(poly_reg_pipeline, X, y, scoring='r2', cv=5).mean()\n",
    "\n",
    "# Выводим результат\n",
    "print(\"R-squared на кросс-валидации (с добавлением полиномиальных признаков):\", cross_val_r2)\n",
    "\n"
   ]
  },
  {
   "cell_type": "markdown",
   "metadata": {},
   "source": [
    "### Шаг 10.  (**0.5 балла**)\n",
    "Обучите модель (pipeline) на тренировочных данных и сделайте предсказания для train и test, затем выведите на экран r2-score и MSE на тренировочных и на тестовых данных."
   ]
  },
  {
   "cell_type": "code",
   "execution_count": 25,
   "metadata": {
    "ExecuteTime": {
     "end_time": "2023-12-16T14:58:46.353446900Z",
     "start_time": "2023-12-16T14:58:46.318312700Z"
    }
   },
   "outputs": [
    {
     "name": "stdout",
     "output_type": "stream",
     "text": [
      "R-squared на тренировочных данных: -0.1240178584385454\n",
      "MSE на тренировочных данных: 0.7404045213755502\n",
      "\n",
      "R-squared на тестовых данных: -0.21770441916662042\n",
      "MSE на тестовых данных: 0.7720531416989616\n"
     ]
    }
   ],
   "source": [
    "from sklearn.metrics import mean_squared_error, r2_score\n",
    "\n",
    "# Обучаем модель на тренировочных данных\n",
    "poly_reg_pipeline.fit(X_train, y_train)\n",
    "\n",
    "# Делаем предсказания для тренировочных и тестовых данных\n",
    "y_train_pred = poly_reg_pipeline.predict(X_train)\n",
    "y_test_pred = poly_reg_pipeline.predict(X_test)\n",
    "\n",
    "# Вычисляем R-squared и MSE для тренировочных данных\n",
    "r2_train = r2_score(y_train, y_train_pred)\n",
    "mse_train = mean_squared_error(y_train, y_train_pred)\n",
    "\n",
    "# Вычисляем R-squared и MSE для тестовых данных\n",
    "r2_test = r2_score(y_test, y_test_pred)\n",
    "mse_test = mean_squared_error(y_test, y_test_pred)\n",
    "\n",
    "# Выводим результаты\n",
    "print(\"R-squared на тренировочных данных:\", r2_train)\n",
    "print(\"MSE на тренировочных данных:\", mse_train)\n",
    "print(\"\\nR-squared на тестовых данных:\", r2_test)\n",
    "print(\"MSE на тестовых данных:\", mse_test)\n",
    "\n"
   ]
  },
  {
   "cell_type": "markdown",
   "metadata": {},
   "source": [
    "### Сделайте выводы. Для этого ответьте на вопросы: (**1 балл**)\n",
    "\n",
    "1) Хорошее ли качество показала исходная модель (линейная регрессия без регуляризации)? Является ли эта модель переобученной?\n",
    "\n",
    "2) Помогла ли L1-регуляризация улучшить качество модели?\n",
    "\n",
    "3) Помогло ли добавление полиномов второй степени улучшить качество модели? Как добавление новых признаков повлияло на переобучение?"
   ]
  },
  {
   "cell_type": "code",
   "execution_count": null,
   "metadata": {},
   "outputs": [],
   "source": [
    "'''\n",
    "1) Исходная модель (линейная регрессия без регуляризации):\n",
    "Качество исходной модели было не самым лучшим, что видно по высокому значению Mean Squared Error (MSE) и низкому R2 Score на тестовом наборе данных. Вероятно, модель недостаточно сложна для хорошего предсказания целевой переменной. Однако, без дополнительной информации о данных, сложно однозначно сказать, что модель переобучена.\n",
    "\n",
    "2) L1-регуляризация:\n",
    "L1-регуляризация (Lasso) несколько улучшила качество модели по сравнению с исходной. MSE на тестовом наборе данных уменьшилась, а R2 Score увеличился. Это может говорить о том, что L1-регуляризация помогла бороться с избыточностью и улучшила обобщающую способность модели.\n",
    "\n",
    "3) Полиномиальные признаки второй степени:\n",
    "Добавление полиномиальных признаков второй степени не привело к улучшению качества модели, как видно из результатов MSE и R2 Score. Возможно, использование полиномов второй степени не является наилучшим выбором для улучшения предсказательной силы модели. Дополнительные признаки могли внести шум в модель, что привело к переобучению, как видно по ухудшению показателей на тестовом наборе данных.\n",
    "Общие выводы:\n",
    "\n",
    "L1-регуляризация оказалась более полезной для улучшения модели по сравнению с добавлением полиномиальных признаков второй степени. Однако, результаты могут зависеть от специфики данных, и другие методы или степени полиномов могут оказаться более эффективными. Важно тщательно подбирать методы и параметры, чтобы достичь оптимального баланса между сложностью модели и ее обобщающей способностью.\n",
    "\n",
    "'''"
   ]
  },
  {
   "cell_type": "markdown",
   "metadata": {},
   "source": [
    "### *Попытайтесь улучшить модель (добейтесь наилучшего качества) - можно использовать любые методы."
   ]
  },
  {
   "cell_type": "markdown",
   "metadata": {},
   "source": [
    "При улучшении качества r2 на 0.1-0.2 +1 балл, при большем улучшении +2 балла (дополнительно к 5 баллам за основную часть)."
   ]
  },
  {
   "cell_type": "code",
   "execution_count": 20,
   "metadata": {
    "ExecuteTime": {
     "end_time": "2023-12-19T10:28:47.239326300Z",
     "start_time": "2023-12-19T10:28:38.444023400Z"
    }
   },
   "outputs": [
    {
     "name": "stdout",
     "output_type": "stream",
     "text": [
      "R-squared на кросс-валидации (случайный лес с нормализацией): 0.3086543759608249\n"
     ]
    }
   ],
   "source": [
    "from sklearn.ensemble import RandomForestRegressor\n",
    "from sklearn.preprocessing import StandardScaler\n",
    "\n",
    "# Создаем пайплайн с нормализацией и моделью случайного леса\n",
    "random_forest_pipeline = Pipeline([\n",
    "    ('scaler', StandardScaler()),\n",
    "    ('random_forest', RandomForestRegressor(random_state=42))\n",
    "])\n",
    "\n",
    "# Вычисляем r2-score на кросс-валидации с пятью фолдами\n",
    "cross_val_r2_rf = cross_val_score(random_forest_pipeline, X, y, scoring='r2', cv=5).mean()\n",
    "\n",
    "# Выводим результат\n",
    "print(\"R-squared на кросс-валидации (случайный лес с нормализацией):\", cross_val_r2_rf)\n",
    "\n",
    "\n"
   ]
  },
  {
   "cell_type": "markdown",
   "metadata": {},
   "source": [
    "## Часть 2. Target encoding (**всего 5 баллов**)"
   ]
  },
  {
   "cell_type": "markdown",
   "metadata": {},
   "source": [
    "В этом части домашнего задания вы будете работать с выборкой `1C`. Вам нужно посчитать счетчики для `item_id` четырьмя способами:\n",
    "\n",
    "    1) При помощи KFold схемы;  \n",
    "    2) При помощи Leave-one-out схемы;\n",
    "    3) При помощи smoothing схемы;\n",
    "    4) При помощи expanding mean схемы."
   ]
  },
  {
   "cell_type": "markdown",
   "metadata": {},
   "source": [
    "### Подготовка данных"
   ]
  },
  {
   "cell_type": "code",
   "execution_count": 24,
   "metadata": {
    "ExecuteTime": {
     "end_time": "2023-12-19T13:50:15.835640200Z",
     "start_time": "2023-12-19T13:50:14.571407800Z"
    }
   },
   "outputs": [
    {
     "data": {
      "text/plain": "               date  date_block_num  shop_id  item_id  item_price  target\n0        02.01.2013               0       59    22154      999.00     1.0\n1        03.01.2013               0       25     2552      899.00     1.0\n2        05.01.2013               0       25     2552      899.00    -1.0\n3        06.01.2013               0       25     2554     1709.05     1.0\n4        15.01.2013               0       25     2555     1099.00     1.0\n...             ...             ...      ...      ...         ...     ...\n2935844  10.10.2015              33       25     7409      299.00     1.0\n2935845  09.10.2015              33       25     7460      299.00     1.0\n2935846  14.10.2015              33       25     7459      349.00     1.0\n2935847  22.10.2015              33       25     7440      299.00     1.0\n2935848  03.10.2015              33       25     7460      299.00     1.0\n\n[2935849 rows x 6 columns]",
      "text/html": "<div>\n<style scoped>\n    .dataframe tbody tr th:only-of-type {\n        vertical-align: middle;\n    }\n\n    .dataframe tbody tr th {\n        vertical-align: top;\n    }\n\n    .dataframe thead th {\n        text-align: right;\n    }\n</style>\n<table border=\"1\" class=\"dataframe\">\n  <thead>\n    <tr style=\"text-align: right;\">\n      <th></th>\n      <th>date</th>\n      <th>date_block_num</th>\n      <th>shop_id</th>\n      <th>item_id</th>\n      <th>item_price</th>\n      <th>target</th>\n    </tr>\n  </thead>\n  <tbody>\n    <tr>\n      <th>0</th>\n      <td>02.01.2013</td>\n      <td>0</td>\n      <td>59</td>\n      <td>22154</td>\n      <td>999.00</td>\n      <td>1.0</td>\n    </tr>\n    <tr>\n      <th>1</th>\n      <td>03.01.2013</td>\n      <td>0</td>\n      <td>25</td>\n      <td>2552</td>\n      <td>899.00</td>\n      <td>1.0</td>\n    </tr>\n    <tr>\n      <th>2</th>\n      <td>05.01.2013</td>\n      <td>0</td>\n      <td>25</td>\n      <td>2552</td>\n      <td>899.00</td>\n      <td>-1.0</td>\n    </tr>\n    <tr>\n      <th>3</th>\n      <td>06.01.2013</td>\n      <td>0</td>\n      <td>25</td>\n      <td>2554</td>\n      <td>1709.05</td>\n      <td>1.0</td>\n    </tr>\n    <tr>\n      <th>4</th>\n      <td>15.01.2013</td>\n      <td>0</td>\n      <td>25</td>\n      <td>2555</td>\n      <td>1099.00</td>\n      <td>1.0</td>\n    </tr>\n    <tr>\n      <th>...</th>\n      <td>...</td>\n      <td>...</td>\n      <td>...</td>\n      <td>...</td>\n      <td>...</td>\n      <td>...</td>\n    </tr>\n    <tr>\n      <th>2935844</th>\n      <td>10.10.2015</td>\n      <td>33</td>\n      <td>25</td>\n      <td>7409</td>\n      <td>299.00</td>\n      <td>1.0</td>\n    </tr>\n    <tr>\n      <th>2935845</th>\n      <td>09.10.2015</td>\n      <td>33</td>\n      <td>25</td>\n      <td>7460</td>\n      <td>299.00</td>\n      <td>1.0</td>\n    </tr>\n    <tr>\n      <th>2935846</th>\n      <td>14.10.2015</td>\n      <td>33</td>\n      <td>25</td>\n      <td>7459</td>\n      <td>349.00</td>\n      <td>1.0</td>\n    </tr>\n    <tr>\n      <th>2935847</th>\n      <td>22.10.2015</td>\n      <td>33</td>\n      <td>25</td>\n      <td>7440</td>\n      <td>299.00</td>\n      <td>1.0</td>\n    </tr>\n    <tr>\n      <th>2935848</th>\n      <td>03.10.2015</td>\n      <td>33</td>\n      <td>25</td>\n      <td>7460</td>\n      <td>299.00</td>\n      <td>1.0</td>\n    </tr>\n  </tbody>\n</table>\n<p>2935849 rows × 6 columns</p>\n</div>"
     },
     "execution_count": 24,
     "metadata": {},
     "output_type": "execute_result"
    }
   ],
   "source": [
    "sales = pd.read_csv('sales_train_v2.csv')\n",
    "sales.columns = ['date', 'date_block_num', 'shop_id', 'item_id', 'item_price', 'target']\n",
    "sales"
   ]
  },
  {
   "cell_type": "code",
   "execution_count": 25,
   "metadata": {
    "ExecuteTime": {
     "end_time": "2023-12-19T13:50:35.487625900Z",
     "start_time": "2023-12-19T13:50:20.438982700Z"
    }
   },
   "outputs": [],
   "source": [
    "index_cols = ['shop_id', 'item_id', 'date_block_num']\n",
    "\n",
    "# Для каждого месяца мы создаем сетку из всех комбинаций магазинов/предметов за этот месяц.\n",
    "grid = []\n",
    "for block_num in sales['date_block_num'].unique():\n",
    "    cur_shops = sales[sales['date_block_num'] == block_num]['shop_id'].unique()\n",
    "    cur_items = sales[sales['date_block_num'] == block_num]['item_id'].unique()\n",
    "    grid.append(np.array(list(product(*[cur_shops, cur_items, [block_num]])), dtype='int32'))\n",
    "\n",
    "#превращаем сетку в фрейм данных pandas\n",
    "grid = pd.DataFrame(np.vstack(grid), columns=index_cols, dtype=np.int32)\n",
    "\n",
    "#получить агрегированные значения\n",
    "gb = sales.groupby(index_cols, as_index=False).agg({'target': 'sum'})\n",
    "\n",
    "#присоединяем агрегированные данные к сетке\n",
    "all_data = pd.merge(grid, gb, how='left', on=index_cols).fillna(0)\n",
    "#sort the data\n",
    "all_data.sort_values(['date_block_num', 'shop_id', 'item_id'], inplace=True)"
   ]
  },
  {
   "cell_type": "markdown",
   "metadata": {},
   "source": [
    "### Mean encodings без регуляризации"
   ]
  },
  {
   "cell_type": "markdown",
   "metadata": {},
   "source": [
    "После проделанной технической работы, мы готовы посчитать счетчики для переменной `item_id`. \n",
    "\n",
    "Ниже приведены две реализации подсчета счетчиков без регуляризации. Можно использовать данный код в качестве стартовой точки для реализации различных техник регуляризации."
   ]
  },
  {
   "cell_type": "markdown",
   "metadata": {},
   "source": [
    "#### Способ 1"
   ]
  },
  {
   "cell_type": "code",
   "execution_count": 9,
   "metadata": {
    "ExecuteTime": {
     "end_time": "2023-12-16T14:46:10.821140700Z",
     "start_time": "2023-12-16T14:46:10.365070900Z"
    }
   },
   "outputs": [
    {
     "name": "stdout",
     "output_type": "stream",
     "text": [
      "0.4830386988621764\n"
     ]
    }
   ],
   "source": [
    "# Вычисление среднего значения целевой переменной для каждого значения в категориальной переменной:\n",
    "item_id_target_mean = all_data.groupby('item_id').target.mean()\n",
    "\n",
    "# В нашем нерегуляризованном случае мы просто *сопоставляем* вычисленные средние значения с `item_id`\n",
    "all_data['item_target_enc'] = all_data['item_id'].map(item_id_target_mean)\n",
    "\n",
    "# Fill NaNs\n",
    "all_data['item_target_enc'].fillna(0.3343, inplace=True)\n",
    "\n",
    "# Print correlation\n",
    "encoded_feature = all_data['item_target_enc'].values\n",
    "print(np.corrcoef(all_data['target'].values, encoded_feature)[0][1])"
   ]
  },
  {
   "cell_type": "markdown",
   "metadata": {},
   "source": [
    "#### Способ 2"
   ]
  },
  {
   "cell_type": "code",
   "execution_count": 10,
   "metadata": {
    "ExecuteTime": {
     "end_time": "2023-12-16T14:46:11.200735900Z",
     "start_time": "2023-12-16T14:46:10.825143400Z"
    }
   },
   "outputs": [
    {
     "name": "stdout",
     "output_type": "stream",
     "text": [
      "0.4830386988621764\n"
     ]
    }
   ],
   "source": [
    "'''\n",
    "В отличие от функции `.target.mean()` `transform`\n",
    "   вернет кадр данных с индексом, как в `all_data`.\n",
    "   По сути, эта единственная строка кода эквивалентна первым двум строкам метода 1.\n",
    "'''\n",
    "all_data['item_target_enc'] = all_data.groupby('item_id')['target'].transform('mean')\n",
    "\n",
    "# Fill NaNs\n",
    "all_data['item_target_enc'].fillna(0.3343, inplace=True)\n",
    "\n",
    "# Print correlation\n",
    "encoded_feature = all_data['item_target_enc'].values\n",
    "print(np.corrcoef(all_data['target'].values, encoded_feature)[0][1])"
   ]
  },
  {
   "cell_type": "markdown",
   "metadata": {},
   "source": [
    "###  KFold схема (**1.25 балла**)"
   ]
  },
  {
   "cell_type": "markdown",
   "metadata": {},
   "source": [
    "Необходимо реализовать Kfold схему с пятью фолдами. Используйте KFold(5) из sklearn.model_selection. \n",
    "\n",
    "1. Разбейте данные на 5 фолдов при помощи `sklearn.model_selection.KFold` с параметром `shuffle=False`.\n",
    "2. Проитерируйтесь по фолдам: используйте 4 обучающих фолда для подсчета средних значений таргета по `item_id` и заполните этими значениями валидационный фолд на каждой итерации.\n",
    "\n",
    "Обратите внимание на **Способ 1** из примера. В частности, изучите, как работают функции map и pd.Series.map. Они довольно полезны во многих ситуациях. "
   ]
  },
  {
   "cell_type": "code",
   "execution_count": 12,
   "metadata": {
    "ExecuteTime": {
     "end_time": "2023-12-16T14:47:29.461302800Z",
     "start_time": "2023-12-16T14:47:23.772323100Z"
    }
   },
   "outputs": [
    {
     "name": "stdout",
     "output_type": "stream",
     "text": [
      "Ожидаемый ответ (корреляция): 0.4165079692202027\n"
     ]
    }
   ],
   "source": [
    "from sklearn.model_selection import KFold\n",
    "\n",
    "# Создаем KFold схему с пятью фолдами\n",
    "kf = KFold(n_splits=5, shuffle=False)\n",
    "\n",
    "# Создаем новую колонку для счетчиков\n",
    "all_data['item_target_enc_kfold'] = np.nan\n",
    "\n",
    "# Итерируемся по фолдам\n",
    "for train_index, val_index in kf.split(all_data):\n",
    "    # Разбиваем данные на обучающий и валидационный фолды\n",
    "    train_fold, val_fold = all_data.iloc[train_index], all_data.iloc[val_index]\n",
    "\n",
    "    # Подсчитываем средние значения таргета по `item_id` на обучающем фолде\n",
    "    item_id_target_mean = train_fold.groupby('item_id')['target'].mean()\n",
    "\n",
    "    # Применяем подсчитанные значения к валидационному фолду\n",
    "    all_data.loc[val_index, 'item_target_enc_kfold'] = all_data.loc[val_index, 'item_id'].map(item_id_target_mean)\n",
    "\n",
    "# Заполняем NaN значения в новой колонке\n",
    "all_data['item_target_enc_kfold'].fillna(0.3343, inplace=True)\n",
    "\n",
    "# Выводим корреляцию\n",
    "correlation_kfold = np.corrcoef(all_data['target'].values, all_data['item_target_enc_kfold'].values)[0][1]\n",
    "print(\"Ожидаемый ответ (корреляция):\", correlation_kfold)\n"
   ]
  },
  {
   "cell_type": "markdown",
   "metadata": {},
   "source": [
    "Ожидаемый ответ 0.4165"
   ]
  },
  {
   "cell_type": "markdown",
   "metadata": {},
   "source": [
    "### Leave-one-out схема (**1.25 балла**)"
   ]
  },
  {
   "cell_type": "markdown",
   "metadata": {},
   "source": [
    "Необходимо реализовать leave-one-out схему . Учтите, если вы запустите код из первого задания, задав количество фолдов такое же как размер выборки, то вы, вероятно, получите правильный ответ, но ждать будете очень-очень долго.\n",
    "\n",
    "Для более быстрой реализации подсчета среднего таргета на всех объектах, кроме одного, вы можете:\n",
    "\n",
    "1. Вычислить суммарный таргет по всем объектам.\n",
    "2. Вычесть таргет конкретного объекта и разделить результат на `n_objects - 1`. \n",
    "\n",
    "Заметим, что пункт `1.` следует сделать для всех объектов. Также заметим, что пункт `2.` может быть реализован без циклов `for`.\n",
    "\n",
    "Здесь может оказаться полезной функция .transform из **Способа 2** из примера."
   ]
  },
  {
   "cell_type": "code",
   "execution_count": 13,
   "metadata": {
    "ExecuteTime": {
     "end_time": "2023-12-16T14:48:46.501410600Z",
     "start_time": "2023-12-16T14:48:45.773023200Z"
    }
   },
   "outputs": [
    {
     "name": "stdout",
     "output_type": "stream",
     "text": [
      "0.4830386988621764\n"
     ]
    }
   ],
   "source": [
    "all_data['item_target_enc_loo'] = 0.3343\n",
    "\n",
    "target_sum = all_data.groupby('item_id')['target'].transform('sum')\n",
    "\n",
    "n_objects = all_data.groupby('item_id')['target'].transform('count')\n",
    "\n",
    "all_data['item_target_enc_loo'] = (target_sum - all_data['target']) / (n_objects - 1)\n",
    "\n",
    "corr = np.corrcoef(all_data['target'].values, encoded_feature)[0][1]\n",
    "print(corr)"
   ]
  },
  {
   "cell_type": "markdown",
   "metadata": {},
   "source": [
    "Ожидаемый ответ 0.4803"
   ]
  },
  {
   "cell_type": "markdown",
   "metadata": {},
   "source": [
    "### Smoothing (**1.25 балла**)"
   ]
  },
  {
   "cell_type": "markdown",
   "metadata": {},
   "source": [
    "Необходимо реализовать smoothing с $\\alpha = 100$. Используйте формулу:\n",
    "\n",
    "$\\frac{mean(target) \\cdot nrows + globalmean \\cdot \\alpha }{nrows + \\alpha}$,\n",
    "\n",
    "где $globalmean=0.3343$. Заметим, что `nrows` - это количество объектов, принадлежащих конктертной категории, а не количество строк в датасете."
   ]
  },
  {
   "cell_type": "code",
   "execution_count": 14,
   "metadata": {
    "ExecuteTime": {
     "end_time": "2023-12-16T14:49:00.335629100Z",
     "start_time": "2023-12-16T14:48:53.519528600Z"
    }
   },
   "outputs": [
    {
     "name": "stdout",
     "output_type": "stream",
     "text": [
      "Correlation with Smoothed encoding: 0.4818198892269389\n"
     ]
    }
   ],
   "source": [
    "target_column = 'target'\n",
    "\n",
    "# Глобальное среднее\n",
    "global_mean = all_data[target_column].mean()\n",
    "\n",
    "# Рассчитайте mean, nrows и примените smoothing\n",
    "all_data['item_target_enc_smooth'] = (all_data.groupby('item_id')[target_column]\n",
    "                                      .transform(lambda x: (x.mean() * x.size + global_mean * 100) / (x.size + 100)))\n",
    "\n",
    "# Рассчитайте корреляцию\n",
    "corr_smooth = np.corrcoef(all_data[target_column].values, all_data['item_target_enc_smooth'].values)[0][1]\n",
    "print(\"Correlation with Smoothed encoding:\", corr_smooth)\n"
   ]
  },
  {
   "cell_type": "markdown",
   "metadata": {},
   "source": [
    "Ожидаемый ответ 0.4818"
   ]
  },
  {
   "cell_type": "markdown",
   "metadata": {},
   "source": [
    "### Expanding mean схема (**1.25 балла**)"
   ]
  },
  {
   "cell_type": "markdown",
   "metadata": {},
   "source": [
    "Необходимо реализовать *expanding mean* схему. Ее суть заключается в том, чтобы пройти по отсортированному в определенном порядке датасету (датасет сортируется в самом начале задания) и для подсчета счетчика для строки $m$ использовать строки от $0$ до $m-1$. Вам будет необходимо воспользоваться pandas функциями [`cumsum`](https://pandas.pydata.org/pandas-docs/stable/generated/pandas.core.groupby.DataFrameGroupBy.cumsum.html) и [`cumcount`](https://pandas.pydata.org/pandas-docs/stable/generated/pandas.core.groupby.GroupBy.cumcount.html)."
   ]
  },
  {
   "cell_type": "code",
   "execution_count": 15,
   "metadata": {
    "ExecuteTime": {
     "end_time": "2023-12-16T14:49:01.451013300Z",
     "start_time": "2023-12-16T14:49:00.325622800Z"
    }
   },
   "outputs": [
    {
     "name": "stdout",
     "output_type": "stream",
     "text": [
      "0.5024873044266731\n"
     ]
    }
   ],
   "source": [
    "all_data['item_target_enc_expanding'] = 0.3343\n",
    "\n",
    "cumsum = all_data.groupby('item_id')['target'].cumsum() - all_data['target']\n",
    "cumcount = all_data.groupby('item_id').cumcount()\n",
    "all_data['item_target_enc_expanding'] = cumsum / cumcount.replace(0, 1)\n",
    "\n",
    "corr_expanding = np.corrcoef(all_data['target'].values, all_data['item_target_enc_expanding'].values)[0][1]\n",
    "print(corr_expanding)"
   ]
  },
  {
   "cell_type": "markdown",
   "metadata": {},
   "source": [
    "Ожидаемый ответ 0.5025"
   ]
  }
 ],
 "metadata": {
  "kernelspec": {
   "display_name": "Python 3",
   "language": "python",
   "name": "python3"
  },
  "language_info": {
   "codemirror_mode": {
    "name": "ipython",
    "version": 3
   },
   "file_extension": ".py",
   "mimetype": "text/x-python",
   "name": "python",
   "nbconvert_exporter": "python",
   "pygments_lexer": "ipython3",
   "version": "3.7.6"
  }
 },
 "nbformat": 4,
 "nbformat_minor": 2
}
